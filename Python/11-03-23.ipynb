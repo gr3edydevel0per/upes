{
 "cells": [
  {
   "attachments": {},
   "cell_type": "markdown",
   "metadata": {},
   "source": [
    "Function to calculate the factorial of a number  "
   ]
  },
  {
   "cell_type": "code",
   "execution_count": 5,
   "metadata": {},
   "outputs": [
    {
     "name": "stdout",
     "output_type": "stream",
     "text": [
      "+++++++++++++++++++++++\n",
      "Factorial of 5 is 120\n",
      "+++++++++++++++++++++++\n"
     ]
    }
   ],
   "source": [
    "\n",
    "\n",
    "# Recursive method\n",
    "def factorial(n):\n",
    "    return 1 if (n==0) else n*factorial(n-1)\n",
    "\n",
    "num = int(input(\"Please enter the number\"))\n",
    "\n",
    "print(\"+++++++++++++++++++++++\")\n",
    "print(f\"Factorial of {num} is {factorial(num)}\")\n",
    "print(\"+++++++++++++++++++++++\")"
   ]
  },
  {
   "cell_type": "code",
   "execution_count": 1,
   "metadata": {},
   "outputs": [
    {
     "name": "stdout",
     "output_type": "stream",
     "text": [
      "+++++++++++++++++++++++\n",
      "Factorial of 5 is 120\n",
      "+++++++++++++++++++++++\n"
     ]
    }
   ],
   "source": [
    "# Iterative method\n",
    "def factorial(n):\n",
    "    fact=1\n",
    "    for i in range(n,0,-1):\n",
    "        fact*=i\n",
    "    return fact\n",
    "\n",
    "num = int(input(\"Please enter the number\"))\n",
    "\n",
    "print(\"+++++++++++++++++++++++\")\n",
    "print(f\"Factorial of {num} is {factorial(num)}\")\n",
    "print(\"+++++++++++++++++++++++\")"
   ]
  },
  {
   "attachments": {},
   "cell_type": "markdown",
   "metadata": {},
   "source": [
    "Function to create a area menu to find area of different shapes"
   ]
  },
  {
   "cell_type": "code",
   "execution_count": null,
   "metadata": {},
   "outputs": [],
   "source": [
    "#WAP  a menu driven program to calculate area of different shapes\n",
    "PIE = 3.14\n",
    "\n",
    "def areaTriangle(side1,side2,side3):\n",
    "      semi = (side1+side2+side3)/2\n",
    "      area = (semi*(semi - side1)*(semi - side2)*(semi - side3))**0.5\n",
    "      return \"Sides are invalid\" if area == 0 else area\n",
    "\n",
    "\n",
    "def areaRhombus(height, side):\n",
    "    return height*side\n",
    "\n",
    "def areaRectangle(length, breadth):\n",
    "    return length*breadth\n",
    "\n",
    "def areaSquare(side):\n",
    "    return side**2\n",
    "\n",
    "def areaTrapezium(height,pSide1,pSide2):\n",
    "    return 1/2*(pSide1+pSide2)*height\n",
    "\n",
    "def areaCircle(radius):\n",
    "    return PIE*radius**2\n",
    "\n",
    "def elipse(A_intercept,B_intercept):\n",
    "    return PIE*A_intercept*B_intercept\n",
    "\n",
    "def areaparallelogram(base,height):\n",
    "    return base*height\n",
    "\n",
    "def areaSector(radius,angle):\n",
    "    return 1/2*(radius**2)*angle\n",
    "\n",
    "def areaCube(side):\n",
    "     return 6*side**2\n",
    "\n",
    "def areaCuboid(length,breadth,height):\n",
    "    return 2*(length*breadth + breadth*height+ length*height)\n",
    "\n",
    "def areaCylinder(height,radius):\n",
    "    return 2*PIE*radius*height + 2*PIE*radius**2\n",
    "\n",
    "def areaSphere(radius):\n",
    "    return 4*PIE*radius**2\n",
    "\n",
    "def areaCone(radius,sHeight):\n",
    "    return PIE*radius*(sHeight+radius)\n",
    "\n",
    "def areaSemiCircle(radius):\n",
    "    return PIE*(radius**2)/2\n",
    "\n",
    "def printMenu(shapes):\n",
    "    print(\"+++++++++++++++++++++++++++++\")\n",
    "    print(\"Select Shape to find its area\")\n",
    "    print(\"+++++++++++++++++++++++++++++\")\n",
    "    for i in shaped:\n",
    "       print(f\"{shaped.index(i)+1} . {i}\")\n",
    "  \n",
    "\n",
    "    "
   ]
  },
  {
   "cell_type": "code",
   "execution_count": 35,
   "metadata": {},
   "outputs": [
    {
     "name": "stdout",
     "output_type": "stream",
     "text": [
      "+++++++++++++++++++++++++++++\n",
      "Select Shape to find its area\n",
      "+++++++++++++++++++++++++++++\n",
      "1 . Triangle\n",
      "2 . Rhombus\n",
      "3 . Rectangle\n",
      "4 . Square\n",
      "5 . Trapezium\n",
      "6 . Circle\n",
      "7 . Elipse\n",
      "8 . Parallelogram\n",
      "9 . Sector\n",
      "10 . Cube\n",
      "11 . Cuboid\n",
      "12 . Cylinder\n",
      "13 . Sphere\n",
      "14 . Cone\n",
      "15 . SemiCircle\n",
      "16 . Exit\n",
      "Exiting...\n"
     ]
    }
   ],
   "source": [
    "# main code\n",
    "\n",
    "shapes = [\"Triangle\",\"Rhombus\" , \"Rectangle\" , \"Square\", \"Trapezium\" , \"Circle\",\"Elipse\",\"Parallelogram\",\"Sector\",\"Cube\",\"Cuboid\",\"Cylinder\",\"Sphere\"\n",
    "         , \"Cone\" , \"SemiCircle\",\"Exit\"]\n",
    "\n",
    "while True:\n",
    "    \n",
    "    printMenu(shapes)\n",
    "    choice = int(input(\"Please Enter your choice\"))\n",
    "    if choice==16:\n",
    "        print(\"Exiting...\")\n",
    "        break\n",
    "    elif choice ==1:\n",
    "        s1,s2,s3 = map(int,input(\"Please  enter the side of triangle ( s1 s2 s2)\").split())\n",
    "        area = {areaTriangle(s1,s2,s3)}\n",
    "        print(\"Sides are invalid\") if area == 0 else print(f\"Area of triangle is {area}\")\n",
    "    elif choice==2:\n",
    "        h,s =map(int,input(\"Please  enter the height and side of rhombus( height side)\").split())\n",
    "        print(f\"Area of Rhombus is {areaRhombus(h,s)}\")\n",
    "    elif choice==3:\n",
    "         l,b =map(int,input(\"Please  enter the length and breadth of rectangle( length breadth)\").split())\n",
    "         print(f\"Area of Rectangle is {areaRectangle(l,b)}\")\n",
    "    elif choice==4:\n",
    "        side = int(input(\"Please enter the side of square \"))\n",
    "        print(f\"Area of Square is {areaSquare(side)}\")\n",
    "    elif choice==5:\n",
    "        s1,s2,h = map(int,input(\"Please  enter the parallel side of trapezium and its height ( s1 s2 h)\").split())\n",
    "        print(f\"Area of Trapezium is {areaTrapezium(s1,s2,h)}\")\n",
    "    elif choice==6:\n",
    "        r = int(input(\"Please enter the radius of circle \"))\n",
    "        print(f\"Area of circle is {areaCicrle(r)}\")\n",
    "    elif choice==7:\n",
    "        a,b  = map(int,input(\"Please enter the A and B intercept of the elipse (A B)\").split())\n",
    "        print(f\"Area of Elipse is {areaElipse(a,b)}\")\n",
    "    elif choice == 8:\n",
    "        b , h = map(int, input(\"Please enter the base and height of parallelogram ( B H)\").split())\n",
    "        print(f\"Area of parallelogram is {areaParallelogram(b,h)}\")\n",
    "    elif choice ==9:\n",
    "        r,ang = map(int,input(\"Please enter the radius and angle (in radian )of sector\"))\n",
    "        print(f\"Area of sector is {areaSector(r,ang)}\")\n",
    "    elif choice== 10 :\n",
    "         side = int(input(\"Please enter the side of cube \"))\n",
    "         print(f\"Area of cube is {areaCube(side)}\")\n",
    "    elif choice ==11:\n",
    "        l , b , h   =  map(int , input(\"Please enter the lenght , breadth and height of the cuboid ( L B H)\").split())\n",
    "        print(f\"Area of cuboid is {areaCuboid(l,b,h)}\")\n",
    "    elif choice == 12:\n",
    "        r,h = map(int , input(\"Please enter the radius and height of cylinder (L H)\").split())\n",
    "        print(f\"Area of cylinder is {areaCylinder(r,h)}\")\n",
    "    elif choice==13:\n",
    "        r = int(input(\"Please enter the radius of the sphere\"))\n",
    "        print(f\"Area of sphere is {areaSphere(r)}\")\n",
    "    elif  choice==14:\n",
    "        r, l  =  map(int,input(\"Please enter the radius and slant height of the cone ( R L )\").split())\n",
    "        print(f\"Area of cone is {areaCone}\")\n",
    "    elif choice ==15:\n",
    "        r = int(input(\"Please enter the radius of semicircle\"))\n",
    "        print(f\"Area of SemiCircle is {areaSemiCircle(r)}\")\n",
    "    else:\n",
    "        print(\"Invalid choice \")\n",
    "    print(\"-------------------------------------\")"
   ]
  },
  {
   "attachments": {},
   "cell_type": "markdown",
   "metadata": {},
   "source": [
    " wap to print first n armstrong number"
   ]
  },
  {
   "cell_type": "code",
   "execution_count": 99,
   "metadata": {},
   "outputs": [
    {
     "name": "stdout",
     "output_type": "stream",
     "text": [
      "1 2 3 4 5 6 7 8 9 153 370 "
     ]
    }
   ],
   "source": [
    "def countDigit(num):\n",
    "   return 0  if (num==0) else  1 + countDigit(num//10)\n",
    "\n",
    "def armstrongNum(num,count):\n",
    "    return 0  if (num==0) else  (num%10)**count + armstrongNum(num//10,count)\n",
    "   \n",
    "def checkArmstrong(x,armNumber):\n",
    "     if x==armNumber:\n",
    "        return True\n",
    "     return False\n",
    "\n",
    "\n",
    "# main\n",
    "num = int(input(\"Please enter n \"))\n",
    "\n",
    "armFound = 0\n",
    "i=1\n",
    "while armFound!=num:\n",
    "      if checkArmstrong(i, armstrongNum(i,countDigit(i))):\n",
    "        print(i,end=\" \")\n",
    "        armFound+=1\n",
    "      i+=1\n",
    "     \n",
    "     "
   ]
  }
 ],
 "metadata": {
  "kernelspec": {
   "display_name": "base",
   "language": "python",
   "name": "python3"
  },
  "language_info": {
   "codemirror_mode": {
    "name": "ipython",
    "version": 3
   },
   "file_extension": ".py",
   "mimetype": "text/x-python",
   "name": "python",
   "nbconvert_exporter": "python",
   "pygments_lexer": "ipython3",
   "version": "3.9.12"
  },
  "orig_nbformat": 4
 },
 "nbformat": 4,
 "nbformat_minor": 2
}
