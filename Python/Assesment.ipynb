{
 "cells": [
  {
   "cell_type": "code",
   "execution_count": null,
   "metadata": {},
   "outputs": [],
   "source": [
    "#1. WAP to covert  upper case letter of a given string into lower case\n",
    "\n",
    "str1= input(\"Please enter the string\")\n",
    "newStr=\"\"\n",
    "for i in str1:\n",
    "    if ord(i)  in range(97,123):\n",
    "        newStr+=i\n",
    "    else:\n",
    "        newStr+=chr(ord(i)+32)\n",
    "\n",
    "print(newStr)"
   ]
  },
  {
   "cell_type": "code",
   "execution_count": null,
   "metadata": {},
   "outputs": [],
   "source": [
    "#2. Write a program to find the sum of row and column of a matrix\n",
    "row,col = map(int,input(\"Please enter number of row and columns (r c): \").split())\n",
    "\n",
    "sumRow = [0]*row\n",
    "sumCol = [0]*col\n",
    "\n",
    "# for ease taking matrix at runtime\n",
    "matrix = [[1,2,3],[4,5,6],[7,8,9]]\n",
    "\n",
    "for i in range(row):\n",
    "    for j in range(col):\n",
    "        sumRow[i]+=matrix[i][j]\n",
    "        sumCol[j]+=matrix[i][j]\n",
    "\n",
    "print(\"------------Entered Matrix-------------\")\n",
    "for  i in matrix:\n",
    "    print(i)\n",
    "\n",
    "print(\"---------------------------------------\")\n",
    "for k in range(row):\n",
    "    print(f\"Sum of {k+1} row : {sumRow[k]}\")\n",
    "print(\"---------------------------------------\")\n",
    "for m in range(col):\n",
    "    print(f\"Sum of {m+1} row : {sumCol[m]}\")\n",
    "\n",
    "    \n"
   ]
  },
  {
   "cell_type": "code",
   "execution_count": null,
   "metadata": {},
   "outputs": [],
   "source": [
    "#3\n",
    "# Author : Kanav\n",
    "# Date 13-03-23\n",
    "text = input(\"Please enter the text\")\n",
    "countAlpha=0\n",
    "countDigit=0\n",
    "countSchar=0\n",
    "\n",
    "for i in text:\n",
    "   if i.isalpha():\n",
    "    countAlpha+=1\n",
    "   elif i.isdigit():\n",
    "    countDigit+=1\n",
    "   elif not i.isspace():\n",
    "    countSchar+=1\n",
    "\n",
    "\n",
    "\n",
    "print(\"+++++++++++++++++++++++++++\")\n",
    "print(f\"Entered String : {text}\")\n",
    "print(\"+++++++++++++++++++++++++++\")\n",
    "print(f\"Alphabets : {countAlpha}\")\n",
    "print(f\"Digits  : {countDigit}\")\n",
    "print(f\"Spe. Char : {countSchar}\")"
   ]
  },
  {
   "cell_type": "code",
   "execution_count": null,
   "metadata": {},
   "outputs": [],
   "source": [
    "#4\n",
    "#WAP to read an integer ‘n’ from STDIN. For allnon-negative integers i<n, print i**2 on a separate line.\n",
    "# Author : Kanav\n",
    "# Date 13-03-23\n",
    "\n",
    "n = int(input(\"Please enter the number\"))\n",
    "\n",
    "for i in range(n):\n",
    "\n",
    "     print(i**2)"
   ]
  },
  {
   "cell_type": "code",
   "execution_count": null,
   "metadata": {},
   "outputs": [],
   "source": [
    "#5\n",
    "# WAP to read the record of n students in a dictionary containing key/value pairs of name: [marks].\n",
    "# Print the average of the marks obtained by the particular student correct to 2 decimal places.\n",
    "# Input Format\n",
    "# The next n lines contain the names and marks obtained by a student in five different subjects, each value separated by a space.\n",
    "\n",
    "print(\"Please enter in format NAME MARKS1 MARKS2 MARKS3 MARKS4 MARKS5\")\n",
    "stuRecords={}\n",
    "while True:\n",
    "    record = input(\"To Add Record Please enter the record in given format | To exit enter N\")\n",
    "\n",
    "    if record.lower()  == \"n\":\n",
    "        break\n",
    "    marks= [eval(i) for i  in record.split(maxsplit=1)[1].split()]\n",
    "    stuRecords[record.split()[0]]=marks\n",
    "    \n",
    "print(\"+++++++++++++++++++++++++++++++++++++++++++++\")\n",
    "for i,j in stuRecords.items():\n",
    "    print(f\"Student Name : {i.capitalize()} | Marks Obtained {j}\") \n",
    "print(\"+++++++++++++++++++++++++++++++++++++++++++++\")\n",
    "print(\"+      Average Marks of each student        +\")\n",
    "print(\"+++++++++++++++++++++++++++++++++++++++++++++\")\n",
    "for i in stuRecords:\n",
    "    sum=0\n",
    "    for j in stuRecords[i]:\n",
    "        sum+=j\n",
    "    print(\"Student Name : {:s} | Average Marks {:.2f}\".format(i,sum/5)) "
   ]
  },
  {
   "cell_type": "code",
   "execution_count": null,
   "metadata": {},
   "outputs": [],
   "source": [
    "#6 WAP to input a list of scores for N students ina list data type. Find the score of the runner-up and print the output.\n",
    "marks = input(\"Please enter separated by spaces\")\n",
    "stuRecords = [eval(i) for i in marks.split()]\n",
    "\n",
    "\n",
    "distinctMarks = list(set(stuRecords)) # to remove duplicates\n",
    "\n",
    "# Using in built functions\n",
    "distinctMarks.remove(max(distinctMarks))  #removing the maximum marks \n",
    "print(f\"Runner Up marks : {max(distinctMarks)}\") # displaying next maximum marks\n",
    "\n",
    "# By sorting\n",
    "\n",
    "distinctMarks = list(set(stuRecords)) # to remove duplicates\n",
    "\n",
    "for i in range(len(distinctMarks)):\n",
    "    for j in range(len(distinctMarks)-1):\n",
    "        if distinctMarks[j]>distinctMarks[j+1]:\n",
    "            temp = distinctMarks[j]\n",
    "            distinctMarks[j]= distinctMarks[j+1]\n",
    "            distinctMarks[j+1]= temp \n",
    "\n",
    "print(f\"Runner Up marks : {distinctMarks[-2]}\") \n",
    "\n",
    "\n"
   ]
  },
  {
   "cell_type": "code",
   "execution_count": null,
   "metadata": {},
   "outputs": [],
   "source": [
    "#8\n",
    "text = input(\"Please enter the text\").lower()  # treating lower and upper case as one\n",
    "\n",
    "\n",
    "# distinct characters\n",
    "disCharacters = list(set(text))\n",
    "charCount = {}\n",
    "\n",
    "\n",
    "charFreq=[ text.count(x) for x in disCharacters]\n",
    "\n",
    "# most occuring elements\n",
    "print(\"Most Occuring Elemets : \")\n",
    "for i in range(len(charFreq)):\n",
    "    if charFreq[i]==max(charFreq):\n",
    "        print(f\"{disCharacters[i]}\",end=\" \")\n",
    "print(\"\\nLeast Occuring Elements : \")\n",
    "for k in range(len(charFreq)):\n",
    "    if charFreq[k]==min(charFreq):\n",
    "        print(f\"{disCharacters[k]}\",end=\" \")"
   ]
  },
  {
   "cell_type": "code",
   "execution_count": null,
   "metadata": {},
   "outputs": [],
   "source": [
    "#9\n",
    "# Write a script to find the duplicate items from a list\n",
    "\n",
    "\n",
    "def find_duplicates(duplicatedList):\n",
    "    repeated = []\n",
    "    for i in range(len(duplicatedList)):\n",
    "        for j in range(i+1, len(duplicatedList)):\n",
    "            if duplicatedList[i] == duplicatedList[j] and duplicatedList[i] not in repeated:\n",
    "                repeated.append(duplicatedList[i])\n",
    "    return repeated\n",
    "  \n",
    "\n",
    "duplicatedList = [1, 2, 3, 4, 4, 5, 6, 6, 6, 7, 8, 8, 9, 9, 10]\n",
    "print(find_duplicates(duplicatedList))\n",
    "\n"
   ]
  },
  {
   "cell_type": "code",
   "execution_count": null,
   "metadata": {},
   "outputs": [],
   "source": [
    "#10\n",
    "\n",
    "\n",
    "names=[]\n",
    "while True:\n",
    "    name= input(\"Please enter name  | To exit enter N\")\n",
    "    if name.lower()=='n':\n",
    "        break\n",
    "    names.append(name)\n",
    "\n",
    "for i in range(len(names)):\n",
    "    for j in range(len(names)-1):\n",
    "        if ord(names[j][0])>ord(names[j+1][0]):\n",
    "            temp=names[j]\n",
    "            names[j]=names[j+1]\n",
    "            names[j+1]=temp\n",
    "\n",
    "print(names)"
   ]
  },
  {
   "cell_type": "code",
   "execution_count": null,
   "metadata": {},
   "outputs": [],
   "source": [
    "#11\n",
    "text= \"Python\"\n",
    "for i in text:\n",
    "    if i==\"y\":\n",
    "        continue\n",
    "    print(i)\n"
   ]
  },
  {
   "cell_type": "code",
   "execution_count": 95,
   "metadata": {},
   "outputs": [
    {
     "name": "stdout",
     "output_type": "stream",
     "text": [
      "Binary Equivalent is:\n",
      "1 1 0 "
     ]
    }
   ],
   "source": [
    "#13\n",
    "def decimal_to_binary(n):\n",
    "    a = []\n",
    "    while n > 0:\n",
    "        dig = n % 2\n",
    "        a.append(dig)\n",
    "        n = n // 2\n",
    "    a.reverse()\n",
    "    print(\"Binary Equivalent is:\")\n",
    "    for i in a:\n",
    "        print(i, end=\" \")\n",
    "\n",
    "# Driver Code\n",
    "n = int(input(\"Enter a number: \"))\n",
    "decimal_to_binary(n)\n"
   ]
  },
  {
   "cell_type": "code",
   "execution_count": null,
   "metadata": {},
   "outputs": [],
   "source": []
  }
 ],
 "metadata": {
  "kernelspec": {
   "display_name": "base",
   "language": "python",
   "name": "python3"
  },
  "language_info": {
   "codemirror_mode": {
    "name": "ipython",
    "version": 3
   },
   "file_extension": ".py",
   "mimetype": "text/x-python",
   "name": "python",
   "nbconvert_exporter": "python",
   "pygments_lexer": "ipython3",
   "version": "3.9.12"
  },
  "orig_nbformat": 4
 },
 "nbformat": 4,
 "nbformat_minor": 2
}
