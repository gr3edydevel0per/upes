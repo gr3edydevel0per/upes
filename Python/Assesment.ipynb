{
 "cells": [
  {
   "cell_type": "code",
   "execution_count": null,
   "metadata": {},
   "outputs": [],
   "source": [
    "#1. WAP to covert  upper case letter of a given string into lower case\n",
    "\n",
    "str1= input(\"Please enter the string\")\n",
    "newStr=\"\"\n",
    "for i in str1:\n",
    "    if ord(i)  in range(97,123):\n",
    "        newStr+=i\n",
    "    else:\n",
    "        newStr+=chr(ord(i)+32)\n",
    "\n",
    "print(newStr)"
   ]
  },
  {
   "cell_type": "code",
   "execution_count": 32,
   "metadata": {},
   "outputs": [
    {
     "name": "stdout",
     "output_type": "stream",
     "text": [
      "------------Entered Matrix-------------\n",
      "[1, 2, 3]\n",
      "[4, 5, 6]\n",
      "[7, 8, 9]\n",
      "---------------------------------------\n",
      "Sum of 1 row : 6\n",
      "Sum of 2 row : 15\n",
      "Sum of 3 row : 24\n",
      "---------------------------------------\n",
      "Sum of 1 row : 12\n",
      "Sum of 2 row : 15\n",
      "Sum of 3 row : 18\n"
     ]
    }
   ],
   "source": [
    "#2. Write a program to find the sum of row and column of a matrix\n",
    "row,col = map(int,input(\"Please enter number of row and columns (r c): \").split())\n",
    "\n",
    "sumRow = [0]*row\n",
    "sumCol = [0]*col\n",
    "\n",
    "# for ease taking matrix at runtime\n",
    "matrix = [[1,2,3],[4,5,6],[7,8,9]]\n",
    "\n",
    "for i in range(row):\n",
    "    for j in range(col):\n",
    "        sumRow[i]+=matrix[i][j]\n",
    "        sumCol[j]+=matrix[i][j]\n",
    "\n",
    "print(\"------------Entered Matrix-------------\")\n",
    "for  i in matrix:\n",
    "    print(i)\n",
    "\n",
    "print(\"---------------------------------------\")\n",
    "for k in range(row):\n",
    "    print(f\"Sum of {k+1} row : {sumRow[k]}\")\n",
    "print(\"---------------------------------------\")\n",
    "for m in range(col):\n",
    "    print(f\"Sum of {m+1} row : {sumCol[m]}\")\n",
    "\n",
    "    \n"
   ]
  },
  {
   "cell_type": "code",
   "execution_count": 43,
   "metadata": {},
   "outputs": [
    {
     "name": "stdout",
     "output_type": "stream",
     "text": [
      "------------Entered Matrix-------------\n",
      "[1, 2, 3]\n",
      "[4, 5, 6]\n",
      "[7, 8, 9]\n",
      "------------Matrix Transpose-----------\n",
      "[3, 6, 9]\n",
      "[3, 6, 9]\n",
      "[3, 6, 9]\n"
     ]
    }
   ],
   "source": [
    "#3. WAP to find the transpose of a matrix\n",
    "\n",
    "def swapNum(a,b):\n",
    "    a = a^b\n",
    "    b = a^b\n",
    "    a = a^b \n",
    "    return a,b\n",
    "\n",
    "row,col = map(int,input(\"Please enter number of row and columns (r c): \").split())\n",
    "\n",
    "# for ease taking matrix at runtime\n",
    "matrix = [[1,2,3],[4,5,6],[7,8,9]]\n",
    "newMatrix = [[0]*row]*col\n",
    "\n",
    "for i in range(row):\n",
    "    for j in range(col):\n",
    "         newMatrix[i][j] = matrix[j][i]\n",
    "\n",
    "print(\"------------Entered Matrix-------------\")\n",
    "for  i in matrix:\n",
    "    print(i)\n",
    "print(\"------------Matrix Transpose-----------\")\n",
    "for  j in newMatrix:\n",
    "    print(j)\n",
    "\n",
    "\n"
   ]
  },
  {
   "cell_type": "code",
   "execution_count": 13,
   "metadata": {},
   "outputs": [
    {
     "name": "stdout",
     "output_type": "stream",
     "text": [
      "+++++++++++++++++++++++++++\n",
      "Entered String : kanav@22\n",
      "+++++++++++++++++++++++++++\n",
      "Alphabets : 5\n",
      "Digits    : 2\n",
      "Spe. Char : 1\n"
     ]
    }
   ],
   "source": [
    "#4. WAP to count number of alphabets , digits and special character in a string\n",
    "text  = input(\"Please enter the text\")\n",
    "countAlpha=0\n",
    "countDigit=0\n",
    "countSchar=0\n",
    "for i in text:\n",
    "    if i.isalpha():\n",
    "        countAlpha+=1\n",
    "    elif i.isdigit():\n",
    "        countDigit+=1\n",
    "    elif not i.isspace():\n",
    "        countSchar+=1\n",
    "\n",
    "print(\"+++++++++++++++++++++++++++\")\n",
    "print(f\"Entered String : {text}\")\n",
    "print(\"+++++++++++++++++++++++++++\")\n",
    "print(f\"Alphabets : {countAlpha}\")\n",
    "print(f\"Digits    : {countDigit}\")\n",
    "print(f\"Spe. Char : {countSchar}\")\n"
   ]
  },
  {
   "cell_type": "code",
   "execution_count": 21,
   "metadata": {},
   "outputs": [
    {
     "name": "stdout",
     "output_type": "stream",
     "text": [
      "Number of words in the given string is 2\n"
     ]
    }
   ],
   "source": [
    "#5. WAP to count total number of words in a string\n",
    "text = input(\"Please enter the string\")\n",
    "\n",
    "# using method\n",
    "numWords = len(text.split())\n",
    "print(f\"Number of words in the given string is {numWords}\")  # entered string was hello world"
   ]
  },
  {
   "cell_type": "code",
   "execution_count": 16,
   "metadata": {},
   "outputs": [
    {
     "name": "stdout",
     "output_type": "stream",
     "text": [
      "1\n",
      "4\n",
      "9\n",
      "16\n"
     ]
    }
   ],
   "source": [
    "#6. WAP to print i**2 for i < n in separate line\n",
    "n = int(input(\"Please enter the range\"))\n",
    "\n",
    "for i in range(1,n):     # it will run upto i<n or i =n-1\n",
    "    print(i**2)"
   ]
  },
  {
   "cell_type": "code",
   "execution_count": 15,
   "metadata": {},
   "outputs": [
    {
     "name": "stdout",
     "output_type": "stream",
     "text": [
      "12345\n"
     ]
    }
   ],
   "source": [
    "#7. Wap to print  consecutive number upto n : n =5 output : 12345\n",
    "n = int(input(\"Please enter the range\"))\n",
    "sum=0\n",
    "i=1\n",
    "while(i<=n):\n",
    "    sum = sum*10 +i\n",
    "    i+=1\n",
    "\n",
    "print(sum)\n"
   ]
  }
 ],
 "metadata": {
  "kernelspec": {
   "display_name": "base",
   "language": "python",
   "name": "python3"
  },
  "language_info": {
   "codemirror_mode": {
    "name": "ipython",
    "version": 3
   },
   "file_extension": ".py",
   "mimetype": "text/x-python",
   "name": "python",
   "nbconvert_exporter": "python",
   "pygments_lexer": "ipython3",
   "version": "3.9.12"
  },
  "orig_nbformat": 4
 },
 "nbformat": 4,
 "nbformat_minor": 2
}
