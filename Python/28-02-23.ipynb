{
 "cells": [
  {
   "attachments": {},
   "cell_type": "markdown",
   "metadata": {},
   "source": [
    "<h4> Python Dictionary </h4>"
   ]
  },
  {
   "cell_type": "code",
   "execution_count": 5,
   "metadata": {},
   "outputs": [
    {
     "name": "stdout",
     "output_type": "stream",
     "text": [
      "<class 'dict'>\n"
     ]
    }
   ],
   "source": [
    "# key:value pair\n",
    "# mutable data structure\n",
    "d = {}  # initializing empty dictionary\n",
    "d = dict()  # initialize empty dictionary using constructor\n",
    "print(type(d))\n",
    "\n",
    "# keys are always immutable"
   ]
  },
  {
   "cell_type": "code",
   "execution_count": 6,
   "metadata": {},
   "outputs": [
    {
     "name": "stdout",
     "output_type": "stream",
     "text": [
      "{1: {'name': 'xyz', 'mod': 76888, 'course': 'B.tech', 'CGPA': 8.96}, 2: {'name': 'abc', 'mod': 86888, 'course': 'B.tech', 'CGPA': 8.69}}\n"
     ]
    }
   ],
   "source": [
    "d1  = {'name':'xyz','mod':76888,'course':'B.tech','CGPA':8.96}\n",
    "d2  = {'name':'abc','mod':86888,'course':'B.tech','CGPA':8.69}\n",
    "data = {1:d1,2:d2}\n",
    "print(data)\n"
   ]
  },
  {
   "cell_type": "code",
   "execution_count": 7,
   "metadata": {},
   "outputs": [
    {
     "data": {
      "text/plain": [
       "{'name': 'xyz', 'mod': 76888, 'course': 'B.tech', 'CGPA': 8.96}"
      ]
     },
     "execution_count": 7,
     "metadata": {},
     "output_type": "execute_result"
    }
   ],
   "source": [
    "data[1]   # accessing dictionary elements\n",
    "# dictObj[key] will give its value"
   ]
  },
  {
   "cell_type": "code",
   "execution_count": 9,
   "metadata": {},
   "outputs": [
    {
     "data": {
      "text/plain": [
       "{'name': 'jhon', 'mod': 76888, 'course': 'B.tech', 'CGPA': 8.96}"
      ]
     },
     "execution_count": 9,
     "metadata": {},
     "output_type": "execute_result"
    }
   ],
   "source": [
    "# insertion in the dictionary \n",
    "d1  = {'name':'xyz','mod':76888,'course':'B.tech','CGPA':8.96}\n",
    "\n",
    "#D[key] = value  -> for inserting and updating the value\n",
    "\n",
    "d1['name']= 'jhon'\n",
    "d1\n"
   ]
  },
  {
   "cell_type": "code",
   "execution_count": 11,
   "metadata": {},
   "outputs": [
    {
     "data": {
      "text/plain": [
       "{'name': 'jhon', 'mod': 76888, 'course': 'B.tech', 'CGPA': 8.96, 'Batch': 4}"
      ]
     },
     "execution_count": 11,
     "metadata": {},
     "output_type": "execute_result"
    }
   ],
   "source": [
    "d1['Batch'] = 4\n",
    "d1"
   ]
  },
  {
   "cell_type": "code",
   "execution_count": 15,
   "metadata": {},
   "outputs": [
    {
     "data": {
      "text/plain": [
       "{1: 3}"
      ]
     },
     "execution_count": 15,
     "metadata": {},
     "output_type": "execute_result"
    }
   ],
   "source": [
    "# duplicate keys does not exist in the dictionary\n",
    "d1 = {1:1,1:2,1:3}\n",
    "d1"
   ]
  },
  {
   "cell_type": "code",
   "execution_count": 26,
   "metadata": {},
   "outputs": [],
   "source": [
    "# create a dictionary dynamically to store student data\n",
    "\n",
    "records= dict()\n",
    "\n",
    "while 1:\n",
    "    stuDetails= {}\n",
    "    RollNo = int(input(\"Enter Student roll \"))\n",
    "    name=input(\"student name :\")\n",
    "    mobile=input(\"student mobile number :\")\n",
    "    course = input(\"Student Course :\")\n",
    "    stuDetails['Name']=name\n",
    "    stuDetails['Mobile']=mobile\n",
    "    stuDetails['Course']=course\n",
    "\n",
    "    records[RollNo]=stuDetails\n",
    "    terminate = input(\"To stop press N | To continue press Y\")\n",
    "    if terminate.lower()=='n':\n",
    "        break\n",
    "    else:\n",
    "         pass\n",
    "\n",
    "\n"
   ]
  },
  {
   "cell_type": "code",
   "execution_count": 27,
   "metadata": {},
   "outputs": [
    {
     "data": {
      "text/plain": [
       "{101: {'Name': 'kanav', 'Mobile': '23423423', 'Course': 'btech'},\n",
       " 123: {'Name': 'ayush', 'Mobile': '123732846723', 'Course': 'btech'}}"
      ]
     },
     "execution_count": 27,
     "metadata": {},
     "output_type": "execute_result"
    }
   ],
   "source": [
    "records"
   ]
  },
  {
   "cell_type": "code",
   "execution_count": 30,
   "metadata": {},
   "outputs": [
    {
     "name": "stdout",
     "output_type": "stream",
     "text": [
      "----------------------------------------------\n",
      "-----------Toppers Information ---------------\n",
      "----------------------------------------------\n",
      "{'Name': 'zba', 'Mobile': '123232', 'Course': 'bdes', 'CGPA': 9.4}\n"
     ]
    }
   ],
   "source": [
    "# print student details whose cgpa is maximum\n",
    "\n",
    "records= dict()\n",
    "max=0\n",
    "while 1:\n",
    "    stuDetails= {}\n",
    "    RollNo = int(input(\"Enter Student roll \"))\n",
    "    name=input(\"student name :\")\n",
    "    mobile=input(\"student mobile number :\")\n",
    "    course = input(\"Student Course :\")\n",
    "    cgpa=float(input(\"Enter Student CGPA\"))\n",
    "    stuDetails['Name']=name\n",
    "    stuDetails['Mobile']=mobile\n",
    "    stuDetails['Course']=course\n",
    "    stuDetails['CGPA']=cgpa\n",
    "    records[RollNo]=stuDetails\n",
    "    if max<stuDetails['CGPA']:\n",
    "        max =stuDetails['CGPA']\n",
    "    terminate = input(\"To stop press N | To continue press Y\")\n",
    "    if terminate.lower()=='n':\n",
    "        break\n",
    "    else:\n",
    "         pass\n",
    "\n",
    "\n",
    "print(\"----------------------------------------------\")\n",
    "print(\"-----------Toppers Information ---------------\")\n",
    "print(\"----------------------------------------------\")\n",
    "for i in records.keys():\n",
    "    if records[i]['CGPA']==max:\n",
    "        print(records[i])\n",
    "\n",
    "\n"
   ]
  },
  {
   "cell_type": "code",
   "execution_count": null,
   "metadata": {},
   "outputs": [],
   "source": []
  }
 ],
 "metadata": {
  "kernelspec": {
   "display_name": "base",
   "language": "python",
   "name": "python3"
  },
  "language_info": {
   "codemirror_mode": {
    "name": "ipython",
    "version": 3
   },
   "file_extension": ".py",
   "mimetype": "text/x-python",
   "name": "python",
   "nbconvert_exporter": "python",
   "pygments_lexer": "ipython3",
   "version": "3.9.12"
  },
  "orig_nbformat": 4,
  "vscode": {
   "interpreter": {
    "hash": "88279d2366fe020547cde40dd65aa0e3aa662a6ec1f3ca12d88834876c85e1a6"
   }
  }
 },
 "nbformat": 4,
 "nbformat_minor": 2
}
