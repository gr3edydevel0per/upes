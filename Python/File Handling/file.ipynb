{
 "cells": [
  {
   "attachments": {},
   "cell_type": "raw",
   "metadata": {},
   "source": [
    "File Handling "
   ]
  },
  {
   "attachments": {},
   "cell_type": "raw",
   "metadata": {},
   "source": [
    "-> Using With keyword"
   ]
  },
  {
   "cell_type": "code",
   "execution_count": 7,
   "metadata": {},
   "outputs": [
    {
     "name": "stdout",
     "output_type": "stream",
     "text": [
      "Hello world \n",
      "This is my text file \n",
      "....................\n",
      "dummy text\n",
      "====================\n",
      "Hello world \n",
      "This is my text file \n",
      "....................\n",
      "dummy text\n",
      "====================\n",
      "Hello world \n",
      "This is my text file \n",
      "....................\n",
      "dummy text\n",
      "====================\n",
      "Hello world \n",
      "This is my text file \n",
      "....................\n",
      "dummy text\n",
      "====================\n",
      "Hello world \n",
      "This is my text file \n",
      "....................\n",
      "dummy text\n",
      "====================\n",
      "Hello world \n",
      "This is my text file \n",
      "....................\n",
      "dummy text\n",
      "====================\n"
     ]
    }
   ],
   "source": [
    "with open(\"text.txt\",\"r\") as file:   # using with keyword there is no need toc close the file object \n",
    "      print(file.read().strip())"
   ]
  },
  {
   "cell_type": "code",
   "execution_count": 13,
   "metadata": {},
   "outputs": [],
   "source": [
    "file.close()"
   ]
  },
  {
   "attachments": {},
   "cell_type": "raw",
   "metadata": {},
   "source": [
    "Assigning file object to a variable "
   ]
  },
  {
   "cell_type": "code",
   "execution_count": 12,
   "metadata": {},
   "outputs": [],
   "source": [
    "fHandler = open(\"text.txt\",\"r\")"
   ]
  },
  {
   "cell_type": "code",
   "execution_count": 24,
   "metadata": {},
   "outputs": [
    {
     "data": {
      "text/plain": [
       "'Hello world \\nThis is my text file \\n....................\\ndummy text\\n====================\\nHello world \\nThis is my text file \\n....................\\ndummy text\\n====================\\nHello world \\nThis is my text file \\n....................\\ndummy text\\n====================\\nHello world \\nThis is my text file \\n....................\\ndummy text\\n====================\\nHello world \\nThis is my text file \\n....................\\ndummy text\\n====================\\nHello world \\nThis is my text file \\n....................\\ndummy text\\n====================\\n'"
      ]
     },
     "execution_count": 24,
     "metadata": {},
     "output_type": "execute_result"
    }
   ],
   "source": [
    "fHandler.read()\n"
   ]
  },
  {
   "cell_type": "code",
   "execution_count": 14,
   "metadata": {},
   "outputs": [],
   "source": [
    "data =fHandler.readline() \n",
    "while data!= \"\":\n",
    "    print(data)\n",
    "    data =fHandler.readline() "
   ]
  },
  {
   "cell_type": "code",
   "execution_count": 83,
   "metadata": {},
   "outputs": [],
   "source": [
    "fileHandler = open(r\"d:\\\\Github\\\\lab-work\\\\Python\\\\numbers.txt\",\"r\")\n",
    "file2Handler = open(r\"d:\\\\Github\\\\lab-work\\\\Python\\\\evenNum.txt\",\"w\")"
   ]
  },
  {
   "cell_type": "code",
   "execution_count": 84,
   "metadata": {},
   "outputs": [],
   "source": [
    "data = filter( lambda x: x&1!=1   ,list(map(int ,fileHandler.read().split())))\n",
    "file2Handler.writelines([str(x) for x in data]) "
   ]
  },
  {
   "cell_type": "code",
   "execution_count": 85,
   "metadata": {},
   "outputs": [],
   "source": [
    "fileHandler.close()\n",
    "file2Handler.close()"
   ]
  },
  {
   "cell_type": "code",
   "execution_count": 67,
   "metadata": {},
   "outputs": [],
   "source": [
    "for line in fileHandler:\n",
    "    print(line)"
   ]
  },
  {
   "cell_type": "code",
   "execution_count": 68,
   "metadata": {},
   "outputs": [
    {
     "data": {
      "text/plain": [
       "34"
      ]
     },
     "execution_count": 68,
     "metadata": {},
     "output_type": "execute_result"
    }
   ],
   "source": [
    "fileHandler.write(\"10 20 30 40 50 60 70 808 90 100 34\")"
   ]
  },
  {
   "cell_type": "code",
   "execution_count": 48,
   "metadata": {},
   "outputs": [
    {
     "data": {
      "text/plain": [
       "1"
      ]
     },
     "execution_count": 48,
     "metadata": {},
     "output_type": "execute_result"
    }
   ],
   "source": [
    "fileHandler.write(\"2\")"
   ]
  },
  {
   "cell_type": "code",
   "execution_count": 51,
   "metadata": {},
   "outputs": [
    {
     "data": {
      "text/plain": [
       "'10 20 30 40 50 60 70M 808 90 100 342'"
      ]
     },
     "execution_count": 51,
     "metadata": {},
     "output_type": "execute_result"
    }
   ],
   "source": [
    "fileHandler.read()"
   ]
  },
  {
   "cell_type": "code",
   "execution_count": 56,
   "metadata": {},
   "outputs": [
    {
     "name": "stdout",
     "output_type": "stream",
     "text": [
      "Help on built-in function writelines:\n",
      "\n",
      "writelines(lines, /) method of _io.TextIOWrapper instance\n",
      "    Write a list of lines to stream.\n",
      "    \n",
      "    Line separators are not added, so it is usual for each of the\n",
      "    lines provided to have a line separator at the end.\n",
      "\n"
     ]
    }
   ],
   "source": [
    "help(fileHandler.writelines)"
   ]
  },
  {
   "cell_type": "code",
   "execution_count": 53,
   "metadata": {},
   "outputs": [],
   "source": [
    "fileHandler.close()"
   ]
  },
  {
   "cell_type": "code",
   "execution_count": 55,
   "metadata": {},
   "outputs": [
    {
     "name": "stdout",
     "output_type": "stream",
     "text": [
      "Help on BufferedRandom object:\n",
      "\n",
      "class BufferedRandom(_BufferedIOBase)\n",
      " |  BufferedRandom(raw, buffer_size=8192)\n",
      " |  \n",
      " |  A buffered interface to random access streams.\n",
      " |  \n",
      " |  The constructor creates a reader and writer for a seekable stream,\n",
      " |  raw, given in the first argument. If the buffer_size is omitted it\n",
      " |  defaults to DEFAULT_BUFFER_SIZE.\n",
      " |  \n",
      " |  Method resolution order:\n",
      " |      BufferedRandom\n",
      " |      _BufferedIOBase\n",
      " |      _IOBase\n",
      " |      builtins.object\n",
      " |  \n",
      " |  Methods defined here:\n",
      " |  \n",
      " |  __init__(self, /, *args, **kwargs)\n",
      " |      Initialize self.  See help(type(self)) for accurate signature.\n",
      " |  \n",
      " |  __next__(self, /)\n",
      " |      Implement next(self).\n",
      " |  \n",
      " |  __repr__(self, /)\n",
      " |      Return repr(self).\n",
      " |  \n",
      " |  __sizeof__(...)\n",
      " |      Size of object in memory, in bytes.\n",
      " |  \n",
      " |  close(...)\n",
      " |      Flush and close the IO object.\n",
      " |      \n",
      " |      This method has no effect if the file is already closed.\n",
      " |  \n",
      " |  detach(...)\n",
      " |      Disconnect this buffer from its underlying raw stream and return it.\n",
      " |      \n",
      " |      After the raw stream has been detached, the buffer is in an unusable\n",
      " |      state.\n",
      " |  \n",
      " |  fileno(...)\n",
      " |      Returns underlying file descriptor if one exists.\n",
      " |      \n",
      " |      OSError is raised if the IO object does not use a file descriptor.\n",
      " |  \n",
      " |  flush(...)\n",
      " |      Flush write buffers, if applicable.\n",
      " |      \n",
      " |      This is not implemented for read-only and non-blocking streams.\n",
      " |  \n",
      " |  isatty(...)\n",
      " |      Return whether this is an 'interactive' stream.\n",
      " |      \n",
      " |      Return False if it can't be determined.\n",
      " |  \n",
      " |  peek(self, size=0, /)\n",
      " |  \n",
      " |  read(self, size=-1, /)\n",
      " |      Read and return up to n bytes.\n",
      " |      \n",
      " |      If the argument is omitted, None, or negative, reads and\n",
      " |      returns all data until EOF.\n",
      " |      \n",
      " |      If the argument is positive, and the underlying raw stream is\n",
      " |      not 'interactive', multiple raw reads may be issued to satisfy\n",
      " |      the byte count (unless EOF is reached first).  But for\n",
      " |      interactive raw streams (as well as sockets and pipes), at most\n",
      " |      one raw read will be issued, and a short result does not imply\n",
      " |      that EOF is imminent.\n",
      " |      \n",
      " |      Returns an empty bytes object on EOF.\n",
      " |      \n",
      " |      Returns None if the underlying raw stream was open in non-blocking\n",
      " |      mode and no data is available at the moment.\n",
      " |  \n",
      " |  read1(self, size=-1, /)\n",
      " |      Read and return up to n bytes, with at most one read() call\n",
      " |      to the underlying raw stream. A short result does not imply\n",
      " |      that EOF is imminent.\n",
      " |      \n",
      " |      Returns an empty bytes object on EOF.\n",
      " |  \n",
      " |  readable(...)\n",
      " |      Return whether object was opened for reading.\n",
      " |      \n",
      " |      If False, read() will raise OSError.\n",
      " |  \n",
      " |  readinto(self, buffer, /)\n",
      " |  \n",
      " |  readinto1(self, buffer, /)\n",
      " |  \n",
      " |  readline(self, size=-1, /)\n",
      " |      Read and return a line from the stream.\n",
      " |      \n",
      " |      If size is specified, at most size bytes will be read.\n",
      " |      \n",
      " |      The line terminator is always b'\\n' for binary files; for text\n",
      " |      files, the newlines argument to open can be used to select the line\n",
      " |      terminator(s) recognized.\n",
      " |  \n",
      " |  seek(self, target, whence=0, /)\n",
      " |      Change stream position.\n",
      " |      \n",
      " |      Change the stream position to the given byte offset. The offset is\n",
      " |      interpreted relative to the position indicated by whence.  Values\n",
      " |      for whence are:\n",
      " |      \n",
      " |      * 0 -- start of stream (the default); offset should be zero or positive\n",
      " |      * 1 -- current stream position; offset may be negative\n",
      " |      * 2 -- end of stream; offset is usually negative\n",
      " |      \n",
      " |      Return the new absolute position.\n",
      " |  \n",
      " |  seekable(...)\n",
      " |      Return whether object supports random access.\n",
      " |      \n",
      " |      If False, seek(), tell() and truncate() will raise OSError.\n",
      " |      This method may need to do a test seek().\n",
      " |  \n",
      " |  tell(...)\n",
      " |      Return current stream position.\n",
      " |  \n",
      " |  truncate(self, pos=None, /)\n",
      " |      Truncate file to size bytes.\n",
      " |      \n",
      " |      File pointer is left unchanged.  Size defaults to the current IO\n",
      " |      position as reported by tell().  Returns the new size.\n",
      " |  \n",
      " |  writable(...)\n",
      " |      Return whether object was opened for writing.\n",
      " |      \n",
      " |      If False, write() will raise OSError.\n",
      " |  \n",
      " |  write(self, buffer, /)\n",
      " |      Write the given buffer to the IO stream.\n",
      " |      \n",
      " |      Returns the number of bytes written, which is always the length of b\n",
      " |      in bytes.\n",
      " |      \n",
      " |      Raises BlockingIOError if the buffer is full and the\n",
      " |      underlying raw stream cannot accept more data at the moment.\n",
      " |  \n",
      " |  ----------------------------------------------------------------------\n",
      " |  Static methods defined here:\n",
      " |  \n",
      " |  __new__(*args, **kwargs) from builtins.type\n",
      " |      Create and return a new object.  See help(type) for accurate signature.\n",
      " |  \n",
      " |  ----------------------------------------------------------------------\n",
      " |  Data descriptors defined here:\n",
      " |  \n",
      " |  closed\n",
      " |  \n",
      " |  mode\n",
      " |  \n",
      " |  name\n",
      " |  \n",
      " |  raw\n",
      " |  \n",
      " |  ----------------------------------------------------------------------\n",
      " |  Methods inherited from _IOBase:\n",
      " |  \n",
      " |  __del__(...)\n",
      " |  \n",
      " |  __enter__(...)\n",
      " |  \n",
      " |  __exit__(...)\n",
      " |  \n",
      " |  __iter__(self, /)\n",
      " |      Implement iter(self).\n",
      " |  \n",
      " |  readlines(self, hint=-1, /)\n",
      " |      Return a list of lines from the stream.\n",
      " |      \n",
      " |      hint can be specified to control the number of lines read: no more\n",
      " |      lines will be read if the total size (in bytes/characters) of all\n",
      " |      lines so far exceeds hint.\n",
      " |  \n",
      " |  writelines(self, lines, /)\n",
      " |      Write a list of lines to stream.\n",
      " |      \n",
      " |      Line separators are not added, so it is usual for each of the\n",
      " |      lines provided to have a line separator at the end.\n",
      " |  \n",
      " |  ----------------------------------------------------------------------\n",
      " |  Data descriptors inherited from _IOBase:\n",
      " |  \n",
      " |  __dict__\n",
      "\n"
     ]
    }
   ],
   "source": [
    "help(fileHandler.buffer)"
   ]
  },
  {
   "cell_type": "code",
   "execution_count": 101,
   "metadata": {},
   "outputs": [
    {
     "name": "stdout",
     "output_type": "stream",
     "text": [
      "0\n",
      "4\n"
     ]
    }
   ],
   "source": [
    "with open(r\"d:\\\\Github\\\\lab-work\\\\Python\\\\numbers.txt\",\"r\") as file2Handler:\n",
    "      print(file2Handler.tell())\n",
    "      file2Handler.seek(4)\n",
    "      print(file2Handler.tell())\n",
    "   "
   ]
  },
  {
   "cell_type": "code",
   "execution_count": null,
   "metadata": {},
   "outputs": [],
   "source": []
  }
 ],
 "metadata": {
  "kernelspec": {
   "display_name": "base",
   "language": "python",
   "name": "python3"
  },
  "language_info": {
   "codemirror_mode": {
    "name": "ipython",
    "version": 3
   },
   "file_extension": ".py",
   "mimetype": "text/x-python",
   "name": "python",
   "nbconvert_exporter": "python",
   "pygments_lexer": "ipython3",
   "version": "3.9.12"
  },
  "orig_nbformat": 4
 },
 "nbformat": 4,
 "nbformat_minor": 2
}
