{
 "cells": [
  {
   "cell_type": "code",
   "execution_count": 5,
   "metadata": {},
   "outputs": [],
   "source": [
    "import numpy as np"
   ]
  },
  {
   "cell_type": "raw",
   "metadata": {},
   "source": [
    "ndarray class deals with the numerical data \n",
    "nd stands for n dimensional"
   ]
  },
  {
   "cell_type": "raw",
   "metadata": {},
   "source": [
    "NAME\n",
    "    numpy\n",
    "\n",
    "DESCRIPTION\n",
    "    NumPy\n",
    "    =====\n",
    "    \n",
    "    Provides\n",
    "      1. An array object of arbitrary homogeneous items\n",
    "      2. Fast mathematical operations over arrays\n",
    "      3. Linear Algebra, Fourier Transforms, Random Number Generation"
   ]
  },
  {
   "attachments": {},
   "cell_type": "markdown",
   "metadata": {},
   "source": [
    "<center><h2 style=\"color:white\">\n",
    "<hr>\n",
    "Creating a numpy array<hr></h2></center>"
   ]
  },
  {
   "cell_type": "code",
   "execution_count": 33,
   "metadata": {},
   "outputs": [
    {
     "name": "stdout",
     "output_type": "stream",
     "text": [
      "[1 2 3 4 5 5]\n"
     ]
    },
    {
     "data": {
      "text/plain": [
       "numpy.ndarray"
      ]
     },
     "execution_count": 33,
     "metadata": {},
     "output_type": "execute_result"
    }
   ],
   "source": [
    "# creating a numpy array\n",
    "\n",
    "array1D=np.array([1,2,3,4,5,5],dtype=np.int16\")\n",
    "print(array1D)\n",
    "type(array1D)"
   ]
  },
  {
   "cell_type": "code",
   "execution_count": 34,
   "metadata": {},
   "outputs": [
    {
     "data": {
      "text/plain": [
       "2"
      ]
     },
     "execution_count": 34,
     "metadata": {},
     "output_type": "execute_result"
    }
   ],
   "source": [
    "array1D.itemsize"
   ]
  },
  {
   "cell_type": "code",
   "execution_count": 36,
   "metadata": {},
   "outputs": [
    {
     "data": {
      "text/plain": [
       "dtype('int16')"
      ]
     },
     "execution_count": 36,
     "metadata": {},
     "output_type": "execute_result"
    }
   ],
   "source": [
    "array1D.dtype"
   ]
  },
  {
   "cell_type": "code",
   "execution_count": 41,
   "metadata": {},
   "outputs": [
    {
     "name": "stdout",
     "output_type": "stream",
     "text": [
      "[[1 2 3 4 5 7]\n",
      " [1 2 3 4 5 7]]\n"
     ]
    }
   ],
   "source": [
    "array2D = np.array([[1,2,3,4,5,7],[1,2,3,4,5,7]],dtype=np.int16)\n",
    "print(array2D)"
   ]
  },
  {
   "cell_type": "code",
   "execution_count": 42,
   "metadata": {},
   "outputs": [
    {
     "data": {
      "text/plain": [
       "2"
      ]
     },
     "execution_count": 42,
     "metadata": {},
     "output_type": "execute_result"
    }
   ],
   "source": [
    "array2D.ndim"
   ]
  },
  {
   "cell_type": "code",
   "execution_count": 43,
   "metadata": {},
   "outputs": [
    {
     "data": {
      "text/plain": [
       "(2, 6)"
      ]
     },
     "execution_count": 43,
     "metadata": {},
     "output_type": "execute_result"
    }
   ],
   "source": [
    "array2D.shape"
   ]
  },
  {
   "cell_type": "code",
   "execution_count": 68,
   "metadata": {},
   "outputs": [],
   "source": [
    "#  using arange fnc\n",
    "\n",
    "arr = np.arange(10,20)\n",
    "brr =arr.reshape(2,5)  # reshape creates a shallow copy of the original array"
   ]
  },
  {
   "cell_type": "code",
   "execution_count": 69,
   "metadata": {},
   "outputs": [
    {
     "data": {
      "text/plain": [
       "array([10, 11, 12, 13, 14, 15, 16, 17, 18, 19])"
      ]
     },
     "execution_count": 69,
     "metadata": {},
     "output_type": "execute_result"
    }
   ],
   "source": [
    "arr"
   ]
  },
  {
   "cell_type": "code",
   "execution_count": 70,
   "metadata": {},
   "outputs": [
    {
     "data": {
      "text/plain": [
       "array([[10, 11, 12, 13, 14],\n",
       "       [15, 16, 17, 18, 19]])"
      ]
     },
     "execution_count": 70,
     "metadata": {},
     "output_type": "execute_result"
    }
   ],
   "source": [
    "brr"
   ]
  },
  {
   "cell_type": "code",
   "execution_count": 108,
   "metadata": {},
   "outputs": [
    {
     "ename": "AttributeError",
     "evalue": "'tuple' object has no attribute 'reshape'",
     "output_type": "error",
     "traceback": [
      "\u001b[1;31m---------------------------------------------------------------------------\u001b[0m",
      "\u001b[1;31mAttributeError\u001b[0m                            Traceback (most recent call last)",
      "\u001b[1;32m~\\AppData\\Local\\Temp\\ipykernel_14352\\3273119912.py\u001b[0m in \u001b[0;36m<module>\u001b[1;34m\u001b[0m\n\u001b[1;32m----> 1\u001b[1;33m \u001b[0mcrr\u001b[0m \u001b[1;33m=\u001b[0m \u001b[0mnp\u001b[0m\u001b[1;33m.\u001b[0m\u001b[0mlinspace\u001b[0m\u001b[1;33m(\u001b[0m\u001b[1;36m11\u001b[0m\u001b[1;33m,\u001b[0m\u001b[1;36m20\u001b[0m\u001b[1;33m,\u001b[0m\u001b[1;36m60\u001b[0m\u001b[1;33m,\u001b[0m\u001b[0mretstep\u001b[0m\u001b[1;33m=\u001b[0m\u001b[1;32mTrue\u001b[0m\u001b[1;33m)\u001b[0m\u001b[1;33m.\u001b[0m\u001b[0mreshape\u001b[0m\u001b[1;33m(\u001b[0m\u001b[1;36m3\u001b[0m\u001b[1;33m,\u001b[0m\u001b[1;36m4\u001b[0m\u001b[1;33m,\u001b[0m\u001b[1;36m5\u001b[0m\u001b[1;33m)\u001b[0m\u001b[1;33m\u001b[0m\u001b[1;33m\u001b[0m\u001b[0m\n\u001b[0m\u001b[0;32m      2\u001b[0m \u001b[0mcrr\u001b[0m\u001b[1;33m\u001b[0m\u001b[1;33m\u001b[0m\u001b[0m\n",
      "\u001b[1;31mAttributeError\u001b[0m: 'tuple' object has no attribute 'reshape'"
     ]
    }
   ],
   "source": [
    "crr = np.linspace(11,20,60).reshape(3,4,5)\n",
    "crr"
   ]
  },
  {
   "cell_type": "code",
   "execution_count": 117,
   "metadata": {},
   "outputs": [
    {
     "data": {
      "text/plain": [
       "(array([11.      , 11.000009, 11.000018, ..., 19.999982, 19.999991,\n",
       "        20.      ]),\n",
       " 9.000009000009e-06)"
      ]
     },
     "execution_count": 117,
     "metadata": {},
     "output_type": "execute_result"
    }
   ],
   "source": [
    "drr = np.linspace(11,20,1000000,retstep=True)\n",
    "drr"
   ]
  },
  {
   "cell_type": "code",
   "execution_count": 127,
   "metadata": {},
   "outputs": [
    {
     "data": {
      "text/plain": [
       "(3, 4, 5)"
      ]
     },
     "execution_count": 127,
     "metadata": {},
     "output_type": "execute_result"
    }
   ],
   "source": [
    "crr.reshape(3,4,5)\n",
    "crr.shape"
   ]
  },
  {
   "cell_type": "code",
   "execution_count": 130,
   "metadata": {},
   "outputs": [
    {
     "data": {
      "text/plain": [
       "array([[0., 0., 0., 0., 0.],\n",
       "       [0., 0., 0., 0., 0.],\n",
       "       [0., 0., 0., 0., 0.]])"
      ]
     },
     "execution_count": 130,
     "metadata": {},
     "output_type": "execute_result"
    }
   ],
   "source": [
    "drr=np.zeros((3,5)\n",
    "drr"
   ]
  },
  {
   "attachments": {},
   "cell_type": "markdown",
   "metadata": {},
   "source": [
    "<center><h2 style=\"color:white\">\n",
    "<hr>\n",
    "Array traversal<hr></h2></center>"
   ]
  },
  {
   "cell_type": "code",
   "execution_count": 150,
   "metadata": {},
   "outputs": [],
   "source": [
    "arr= np.array([[1,2,3],[4,5,8],[7,8,9]])"
   ]
  },
  {
   "cell_type": "code",
   "execution_count": 151,
   "metadata": {},
   "outputs": [
    {
     "name": "stdout",
     "output_type": "stream",
     "text": [
      "[1 2 3]\n",
      "[4 5 8]\n",
      "[7 8 9]\n"
     ]
    }
   ],
   "source": [
    "for i in arr:\n",
    "    print(i)"
   ]
  },
  {
   "cell_type": "code",
   "execution_count": 153,
   "metadata": {},
   "outputs": [
    {
     "name": "stdout",
     "output_type": "stream",
     "text": [
      "-----------------------------------\n",
      "           ITERATION               \n",
      "-----------------------------------\n",
      "12.983050847457626\n",
      "-----------------------------------\n",
      "           ITERATION               \n",
      "-----------------------------------\n",
      "16.033898305084747\n",
      "-----------------------------------\n",
      "           ITERATION               \n",
      "-----------------------------------\n",
      "19.084745762711865\n"
     ]
    }
   ],
   "source": [
    "for i in crr:\n",
    "    print(\"-----------------------------------\")\n",
    "    print(\"           ITERATION               \")\n",
    "    print(\"-----------------------------------\")\n",
    "    print(i[2,3])"
   ]
  },
  {
   "cell_type": "code",
   "execution_count": 156,
   "metadata": {},
   "outputs": [
    {
     "name": "stdout",
     "output_type": "stream",
     "text": [
      "-----------------------------------\n",
      "           ITERATION               \n",
      "-----------------------------------\n",
      "11.0\n",
      "11.152542372881356\n",
      "11.305084745762711\n",
      "11.457627118644067\n",
      "11.610169491525424\n",
      "11.76271186440678\n",
      "11.915254237288135\n",
      "12.067796610169491\n",
      "12.220338983050848\n",
      "12.372881355932204\n",
      "12.525423728813559\n",
      "12.677966101694915\n",
      "12.830508474576272\n",
      "12.983050847457626\n",
      "13.135593220338983\n",
      "13.288135593220339\n",
      "13.440677966101696\n",
      "13.593220338983052\n",
      "13.745762711864407\n",
      "13.898305084745763\n",
      "-----------------------------------\n",
      "           ITERATION               \n",
      "-----------------------------------\n",
      "14.05084745762712\n",
      "14.203389830508474\n",
      "14.35593220338983\n",
      "14.508474576271187\n",
      "14.661016949152543\n",
      "14.813559322033898\n",
      "14.966101694915254\n",
      "15.11864406779661\n",
      "15.271186440677965\n",
      "15.423728813559322\n",
      "15.576271186440678\n",
      "15.728813559322035\n",
      "15.881355932203391\n",
      "16.033898305084747\n",
      "16.186440677966104\n",
      "16.338983050847457\n",
      "16.491525423728813\n",
      "16.64406779661017\n",
      "16.796610169491526\n",
      "16.949152542372882\n",
      "-----------------------------------\n",
      "           ITERATION               \n",
      "-----------------------------------\n",
      "17.10169491525424\n",
      "17.25423728813559\n",
      "17.406779661016948\n",
      "17.559322033898304\n",
      "17.71186440677966\n",
      "17.864406779661017\n",
      "18.016949152542374\n",
      "18.16949152542373\n",
      "18.322033898305087\n",
      "18.474576271186443\n",
      "18.627118644067796\n",
      "18.779661016949152\n",
      "18.93220338983051\n",
      "19.084745762711865\n",
      "19.23728813559322\n",
      "19.389830508474574\n",
      "19.54237288135593\n",
      "19.694915254237287\n",
      "19.847457627118644\n",
      "20.0\n"
     ]
    }
   ],
   "source": [
    "for i in crr:\n",
    "    print(\"-----------------------------------\")\n",
    "    print(\"           ITERATION               \")\n",
    "    print(\"-----------------------------------\")\n",
    "    for j in i :\n",
    "        for k in j:\n",
    "            print(k)"
   ]
  },
  {
   "attachments": {},
   "cell_type": "markdown",
   "metadata": {},
   "source": [
    "<center><h2 style=\"color:white\">\n",
    "<hr>\n",
    "Vector Operations<hr></h2></center>"
   ]
  },
  {
   "cell_type": "code",
   "execution_count": 158,
   "metadata": {},
   "outputs": [],
   "source": [
    "# methods available in maths are also available in numpy"
   ]
  },
  {
   "attachments": {},
   "cell_type": "markdown",
   "metadata": {},
   "source": [
    "<center><h2 style=\"color:white\">\n",
    "<hr>\n",
    "Statistical Array <hr></h2></center>"
   ]
  },
  {
   "cell_type": "code",
   "execution_count": 180,
   "metadata": {},
   "outputs": [
    {
     "name": "stdout",
     "output_type": "stream",
     "text": [
      "[0 2]\n"
     ]
    }
   ],
   "source": [
    "a = np.array([[1,2,4,5,6,1],[2,3,1,2,3,7]])\n",
    "print(a.argmin(axis=1))   # return the index of the minimum element"
   ]
  },
  {
   "cell_type": "code",
   "execution_count": 182,
   "metadata": {},
   "outputs": [
    {
     "data": {
      "text/plain": [
       "array([1, 2, 4, 5, 6, 1, 2, 3, 1, 2, 3, 7])"
      ]
     },
     "execution_count": 182,
     "metadata": {},
     "output_type": "execute_result"
    }
   ],
   "source": [
    "a.flatten()"
   ]
  },
  {
   "cell_type": "code",
   "execution_count": 211,
   "metadata": {},
   "outputs": [
    {
     "data": {
      "text/plain": [
       "array([[4, 3, 3, 4, 4, 3, 3, 4, 3, 4, 3, 4, 3, 4, 3]])"
      ]
     },
     "execution_count": 211,
     "metadata": {},
     "output_type": "execute_result"
    }
   ],
   "source": [
    "np.random.randint(3,5,(1,15))"
   ]
  },
  {
   "cell_type": "code",
   "execution_count": 219,
   "metadata": {},
   "outputs": [
    {
     "data": {
      "text/plain": [
       "array([[0., 0., 1., 0.],\n",
       "       [0., 0., 0., 1.],\n",
       "       [0., 0., 0., 0.],\n",
       "       [0., 0., 0., 0.]])"
      ]
     },
     "execution_count": 219,
     "metadata": {},
     "output_type": "execute_result"
    }
   ],
   "source": [
    "np.eye(4,k=2)"
   ]
  },
  {
   "cell_type": "code",
   "execution_count": null,
   "metadata": {},
   "outputs": [],
   "source": []
  }
 ],
 "metadata": {
  "kernelspec": {
   "display_name": "base",
   "language": "python",
   "name": "python3"
  },
  "language_info": {
   "codemirror_mode": {
    "name": "ipython",
    "version": 3
   },
   "file_extension": ".py",
   "mimetype": "text/x-python",
   "name": "python",
   "nbconvert_exporter": "python",
   "pygments_lexer": "ipython3",
   "version": "3.9.13"
  },
  "orig_nbformat": 4
 },
 "nbformat": 4,
 "nbformat_minor": 2
}
