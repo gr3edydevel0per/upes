{
 "cells": [
  {
   "cell_type": "code",
   "execution_count": 27,
   "metadata": {},
   "outputs": [
    {
     "name": "stdout",
     "output_type": "stream",
     "text": [
      "kaanav\n"
     ]
    }
   ],
   "source": [
    "# CONVERT A STRING INTO  LOWER CASE\n",
    "\n",
    "str1= input(\"Please enter the string\")\n",
    "newStr=\"\"\n",
    "for i in str1:\n",
    "    if ord(i)  in range(97,123):\n",
    "        newStr+=i\n",
    "    else:\n",
    "        newStr+=chr(ord(i)+32)\n",
    "\n",
    "print(newStr)\n"
   ]
  },
  {
   "attachments": {},
   "cell_type": "markdown",
   "metadata": {},
   "source": [
    "'''Kartik wants to send a confidential message to divya for sewenty reason Kartik is sending message in  \n",
    "encrypted form in place of plain text for encryption he is using 'Key' to replace each alphabet with other\n",
    " Consider Space (\"__\") as 27th alphabet  '''"
   ]
  },
  {
   "cell_type": "code",
   "execution_count": 1,
   "metadata": {},
   "outputs": [],
   "source": [
    "\n",
    "key = int(input(\"Please enter the key\"))\n",
    "message = input(\"Please enter the message \")\n",
    "key_list = [ chr(x)  for x in range(97,123) ]\n",
    "key_list.append(\" \")\n",
    "encrypted=\"\"\n",
    "for i in message:\n",
    "     if i.islower() or i.isspace():\n",
    "        encrypted+=key_list[(key_list.index(i)+key)%27]\n",
    "     else:\n",
    "        char=key_list[(key_list.index(i.lower())+key)%27]\n",
    "        encrypted+= chr(ord(char)-32)\n",
    "       \n",
    "\n",
    "      \n"
   ]
  },
  {
   "cell_type": "code",
   "execution_count": 2,
   "metadata": {},
   "outputs": [
    {
     "data": {
      "text/plain": [
       "['a',\n",
       " 'b',\n",
       " 'c',\n",
       " 'd',\n",
       " 'e',\n",
       " 'f',\n",
       " 'g',\n",
       " 'h',\n",
       " 'i',\n",
       " 'j',\n",
       " 'k',\n",
       " 'l',\n",
       " 'm',\n",
       " 'n',\n",
       " 'o',\n",
       " 'p',\n",
       " 'q',\n",
       " 'r',\n",
       " 's',\n",
       " 't',\n",
       " 'u',\n",
       " 'v',\n",
       " 'w',\n",
       " 'x',\n",
       " 'y',\n",
       " 'z',\n",
       " ' ']"
      ]
     },
     "execution_count": 2,
     "metadata": {},
     "output_type": "execute_result"
    }
   ],
   "source": [
    "key_list"
   ]
  },
  {
   "cell_type": "code",
   "execution_count": 82,
   "metadata": {},
   "outputs": [],
   "source": [
    "encryption = input(\"Please enter encrypted message \")\n",
    "key = int(input(\"Enter kEy\"))\n",
    "key_list = [ chr(x)  for x in range(97,123) ]\n",
    "key_list.append(\" \")\n"
   ]
  },
  {
   "cell_type": "code",
   "execution_count": 83,
   "metadata": {},
   "outputs": [
    {
     "data": {
      "text/plain": [
       "'kanav'"
      ]
     },
     "execution_count": 83,
     "metadata": {},
     "output_type": "execute_result"
    }
   ],
   "source": [
    "decryption"
   ]
  },
  {
   "cell_type": "code",
   "execution_count": 73,
   "metadata": {},
   "outputs": [
    {
     "data": {
      "text/plain": [
       "26"
      ]
     },
     "execution_count": 73,
     "metadata": {},
     "output_type": "execute_result"
    }
   ],
   "source": [
    "# Functions -  block of code performs a specific task  , reuseability ,  maintainability  , modularity ,"
   ]
  },
  {
   "cell_type": "code",
   "execution_count": 93,
   "metadata": {},
   "outputs": [
    {
     "name": "stdout",
     "output_type": "stream",
     "text": [
      "izlzt\n"
     ]
    }
   ],
   "source": [
    "def decryptMsg(message,key):\n",
    "        decryption=\"\"\n",
    "        for i in message:\n",
    "            if i.islower() or i.isspace():\n",
    "                decryption+=key_list[(key_list.index(i)-key)]\n",
    "            else:\n",
    "                char=key_list[key_list.index(i.lower())-key]\n",
    "                decryption+= chr(ord(char)-32)\n",
    "        return decryption\n",
    "\n",
    "encryption = input(\"Please enter encrypted message \")\n",
    "key = int(input(\"Enter kEy\"))\n",
    "key_list = [ chr(x)  for x in range(97,123) ]\n",
    "key_list.append(\" \")\n",
    "decryption= decryptMsg(message,key)\n",
    "print(decryption)"
   ]
  },
  {
   "cell_type": "code",
   "execution_count": null,
   "metadata": {},
   "outputs": [],
   "source": []
  }
 ],
 "metadata": {
  "kernelspec": {
   "display_name": "base",
   "language": "python",
   "name": "python3"
  },
  "language_info": {
   "codemirror_mode": {
    "name": "ipython",
    "version": 3
   },
   "file_extension": ".py",
   "mimetype": "text/x-python",
   "name": "python",
   "nbconvert_exporter": "python",
   "pygments_lexer": "ipython3",
   "version": "3.9.12"
  },
  "orig_nbformat": 4
 },
 "nbformat": 4,
 "nbformat_minor": 2
}
