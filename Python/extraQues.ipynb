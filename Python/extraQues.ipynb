{
 "cells": [
  {
   "cell_type": "code",
   "execution_count": 14,
   "metadata": {},
   "outputs": [],
   "source": [
    "# WAP that creates a list of numbers from 1-20 that are either divisible by 2 or divisible by 4.\n",
    "\n",
    "numList = []\n",
    "counter =2\n",
    "while len(numList)!=20:\n",
    "    if (counter% 2 == 0 )or( counter % 4 ==0):\n",
    "          numList.append(counter)\n",
    "    counter+=1\n",
    "\n",
    "print(numList)\n"
   ]
  },
  {
   "cell_type": "code",
   "execution_count": 15,
   "metadata": {},
   "outputs": [
    {
     "data": {
      "text/plain": [
       "[2, 4, 6, 8, 10, 12, 14, 16, 18, 20, 22, 24, 26, 28, 30, 32, 34, 36, 38, 40]"
      ]
     },
     "execution_count": 15,
     "metadata": {},
     "output_type": "execute_result"
    }
   ],
   "source": [
    "numList"
   ]
  },
  {
   "cell_type": "code",
   "execution_count": 20,
   "metadata": {},
   "outputs": [
    {
     "name": "stdout",
     "output_type": "stream",
     "text": [
      "[1, 3, 5, 7, 9]\n"
     ]
    }
   ],
   "source": [
    "# WAP to create a list of numbers in range 1 to 10. Then delete all the even numbers from the list and print the final list.\n",
    "\n",
    "numList =  list (range(1,11))\n",
    "for x in numList:\n",
    "    if x%2==0:\n",
    "        numList.remove(x)\n",
    "\n",
    "print(numList)\n"
   ]
  },
  {
   "cell_type": "code",
   "execution_count": 29,
   "metadata": {},
   "outputs": [
    {
     "name": "stdout",
     "output_type": "stream",
     "text": [
      "Value Occur At these indexes ::\n",
      "3 8 11 14 18 19 \n",
      "It occurs 6 times in the list\n"
     ]
    }
   ],
   "source": [
    "# WAP to print index at which a particular value exists. If multiple values, print all the indices and count the number of time that value is repeated in the list.\n",
    "\n",
    "target = int(input(\"Enter element to find\"))\n",
    "count =0\n",
    "numList = [1,2,3,4,5,6,2,32,4,6,2,4,6,1,4,2,3,2,4,4]\n",
    "print(\"Value Occur At these indexes ::\")\n",
    "for x in range(len(numList)):\n",
    "    if numList[x]== target:\n",
    "        count+=1\n",
    "        print(x,end=\" \")\n",
    "print(f\"\\nIt occurs {count} times in the list\")"
   ]
  },
  {
   "cell_type": "code",
   "execution_count": 36,
   "metadata": {},
   "outputs": [],
   "source": [
    "#WAP a program that defines a list of  countries that are a member of BRICS. Check weather a country is member of BRICS or not.\n",
    "\n",
    "country = input(\"Enter country name to check\")\n",
    "brics = [ \"Brazil\", \"Russia\", \"India\", \"China\",\"South Africa\"] \n",
    "for x in brics:\n",
    "    if x.lower() == country.lower():\n",
    "        print(\"Country is a part of BRICKS\")\n",
    "print(\"Country is not a part of BRICKS\")"
   ]
  },
  {
   "cell_type": "code",
   "execution_count": 2,
   "metadata": {},
   "outputs": [
    {
     "name": "stdout",
     "output_type": "stream",
     "text": [
      "Help on method randint in module random:\n",
      "\n",
      "randint(a, b) method of random.Random instance\n",
      "    Return random integer in range [a, b], including both end points.\n",
      "\n"
     ]
    }
   ],
   "source": [
    "import random\n",
    "\n",
    "help(random.randint)"
   ]
  },
  {
   "cell_type": "code",
   "execution_count": 3,
   "metadata": {},
   "outputs": [],
   "source": [
    "def generateNum():\n",
    "     return random.randint(1000,10000)\n",
    "\n",
    "def checkCode(userCode,CodeNum):\n",
    "    outStr=\"\"\n",
    "    for i in userCode:\n",
    "        if i not in CodeNum:\n",
    "            outStr+=\"B\"\n",
    "        elif i in CodeNum and CodeNum.index(i)==CodeNum.index(i):\n",
    "            outStr+=\"R\"\n",
    "        else:\n",
    "            outStr+=\"Y\"\n",
    "    return outStr"
   ]
  },
  {
   "cell_type": "code",
   "execution_count": 5,
   "metadata": {},
   "outputs": [
    {
     "name": "stdout",
     "output_type": "stream",
     "text": [
      "++++++++++++++++++++++\n",
      "Guess The Code\n",
      "++++++++++++++++++++++\n",
      "0 -->BRBB\n",
      "1 -->RRBB\n",
      "2 -->RRBB\n",
      "3 -->RRBB\n",
      "4 -->RRRB\n",
      "5 -->RRRB\n",
      "6 -->RRRB\n",
      "7 -->RRRB\n",
      "8 -->RRRB\n",
      "RRRR\n",
      "You Guessed The Number Congratulation!!!.. You won nothing!.....\n"
     ]
    }
   ],
   "source": [
    "CodeNum=str(generateNum())\n",
    "print(\"++++++++++++++++++++++\")\n",
    "print(\"Guess The Code\")\n",
    "print(\"++++++++++++++++++++++\")\n",
    "for i in range(10):\n",
    "    userCode = input(\"Enter Code\")\n",
    "    if checkCode(userCode,CodeNum) == \"RRRR\":\n",
    "        print( checkCode(userCode,CodeNum) )\n",
    "        print(\"You Guessed The Number Congratulation!!!.. You won nothing!.....\")\n",
    "        break\n",
    "    else:\n",
    "         print(f\"{i} -->{checkCode(userCode,CodeNum)}\")"
   ]
  },
  {
   "cell_type": "code",
   "execution_count": 38,
   "metadata": {},
   "outputs": [],
   "source": [
    "numList = [x for x in range(1000,1999) if (int(str(x)[-3])&1==0 or str(x)[-3]==0 )and( int(str(x)[-1])&1==0 or str(x)[-1]==0) and( int(str(x)[-4])&1==1 or str(x)[-4]==0 )and (int(str(x)[-2])&1==1 or str(x)[-2]==0) ]"
   ]
  },
  {
   "cell_type": "code",
   "execution_count": 39,
   "metadata": {},
   "outputs": [
    {
     "data": {
      "text/plain": [
       "[1010,\n",
       " 1012,\n",
       " 1014,\n",
       " 1016,\n",
       " 1018,\n",
       " 1030,\n",
       " 1032,\n",
       " 1034,\n",
       " 1036,\n",
       " 1038,\n",
       " 1050,\n",
       " 1052,\n",
       " 1054,\n",
       " 1056,\n",
       " 1058,\n",
       " 1070,\n",
       " 1072,\n",
       " 1074,\n",
       " 1076,\n",
       " 1078,\n",
       " 1090,\n",
       " 1092,\n",
       " 1094,\n",
       " 1096,\n",
       " 1098,\n",
       " 1210,\n",
       " 1212,\n",
       " 1214,\n",
       " 1216,\n",
       " 1218,\n",
       " 1230,\n",
       " 1232,\n",
       " 1234,\n",
       " 1236,\n",
       " 1238,\n",
       " 1250,\n",
       " 1252,\n",
       " 1254,\n",
       " 1256,\n",
       " 1258,\n",
       " 1270,\n",
       " 1272,\n",
       " 1274,\n",
       " 1276,\n",
       " 1278,\n",
       " 1290,\n",
       " 1292,\n",
       " 1294,\n",
       " 1296,\n",
       " 1298,\n",
       " 1410,\n",
       " 1412,\n",
       " 1414,\n",
       " 1416,\n",
       " 1418,\n",
       " 1430,\n",
       " 1432,\n",
       " 1434,\n",
       " 1436,\n",
       " 1438,\n",
       " 1450,\n",
       " 1452,\n",
       " 1454,\n",
       " 1456,\n",
       " 1458,\n",
       " 1470,\n",
       " 1472,\n",
       " 1474,\n",
       " 1476,\n",
       " 1478,\n",
       " 1490,\n",
       " 1492,\n",
       " 1494,\n",
       " 1496,\n",
       " 1498,\n",
       " 1610,\n",
       " 1612,\n",
       " 1614,\n",
       " 1616,\n",
       " 1618,\n",
       " 1630,\n",
       " 1632,\n",
       " 1634,\n",
       " 1636,\n",
       " 1638,\n",
       " 1650,\n",
       " 1652,\n",
       " 1654,\n",
       " 1656,\n",
       " 1658,\n",
       " 1670,\n",
       " 1672,\n",
       " 1674,\n",
       " 1676,\n",
       " 1678,\n",
       " 1690,\n",
       " 1692,\n",
       " 1694,\n",
       " 1696,\n",
       " 1698,\n",
       " 1810,\n",
       " 1812,\n",
       " 1814,\n",
       " 1816,\n",
       " 1818,\n",
       " 1830,\n",
       " 1832,\n",
       " 1834,\n",
       " 1836,\n",
       " 1838,\n",
       " 1850,\n",
       " 1852,\n",
       " 1854,\n",
       " 1856,\n",
       " 1858,\n",
       " 1870,\n",
       " 1872,\n",
       " 1874,\n",
       " 1876,\n",
       " 1878,\n",
       " 1890,\n",
       " 1892,\n",
       " 1894,\n",
       " 1896,\n",
       " 1898]"
      ]
     },
     "execution_count": 39,
     "metadata": {},
     "output_type": "execute_result"
    }
   ],
   "source": [
    "numList"
   ]
  },
  {
   "cell_type": "code",
   "execution_count": 40,
   "metadata": {},
   "outputs": [
    {
     "data": {
      "text/plain": [
       "False"
      ]
     },
     "execution_count": 40,
     "metadata": {},
     "output_type": "execute_result"
    }
   ],
   "source": [
    "1206 in numList"
   ]
  },
  {
   "cell_type": "code",
   "execution_count": null,
   "metadata": {},
   "outputs": [],
   "source": []
  }
 ],
 "metadata": {
  "kernelspec": {
   "display_name": "base",
   "language": "python",
   "name": "python3"
  },
  "language_info": {
   "codemirror_mode": {
    "name": "ipython",
    "version": 3
   },
   "file_extension": ".py",
   "mimetype": "text/x-python",
   "name": "python",
   "nbconvert_exporter": "python",
   "pygments_lexer": "ipython3",
   "version": "3.9.12"
  },
  "orig_nbformat": 4,
  "vscode": {
   "interpreter": {
    "hash": "88279d2366fe020547cde40dd65aa0e3aa662a6ec1f3ca12d88834876c85e1a6"
   }
  }
 },
 "nbformat": 4,
 "nbformat_minor": 2
}
