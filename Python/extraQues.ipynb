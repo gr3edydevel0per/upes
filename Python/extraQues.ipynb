{
 "cells": [
  {
   "cell_type": "code",
   "execution_count": 14,
   "metadata": {},
   "outputs": [],
   "source": [
    "# WAP that creates a list of numbers from 1-20 that are either divisible by 2 or divisible by 4.\n",
    "\n",
    "numList = []\n",
    "counter =2\n",
    "while len(numList)!=20:\n",
    "    if (counter% 2 == 0 )or( counter % 4 ==0):\n",
    "          numList.append(counter)\n",
    "    counter+=1\n",
    "\n",
    "print(numList)\n"
   ]
  },
  {
   "cell_type": "code",
   "execution_count": 15,
   "metadata": {},
   "outputs": [
    {
     "data": {
      "text/plain": [
       "[2, 4, 6, 8, 10, 12, 14, 16, 18, 20, 22, 24, 26, 28, 30, 32, 34, 36, 38, 40]"
      ]
     },
     "execution_count": 15,
     "metadata": {},
     "output_type": "execute_result"
    }
   ],
   "source": [
    "numList"
   ]
  },
  {
   "cell_type": "code",
   "execution_count": 20,
   "metadata": {},
   "outputs": [
    {
     "name": "stdout",
     "output_type": "stream",
     "text": [
      "[1, 3, 5, 7, 9]\n"
     ]
    }
   ],
   "source": [
    "# WAP to create a list of numbers in range 1 to 10. Then delete all the even numbers from the list and print the final list.\n",
    "\n",
    "numList =  list (range(1,11))\n",
    "for x in numList:\n",
    "    if x%2==0:\n",
    "        numList.remove(x)\n",
    "\n",
    "print(numList)\n"
   ]
  },
  {
   "cell_type": "code",
   "execution_count": 29,
   "metadata": {},
   "outputs": [
    {
     "name": "stdout",
     "output_type": "stream",
     "text": [
      "Value Occur At these indexes ::\n",
      "3 8 11 14 18 19 \n",
      "It occurs 6 times in the list\n"
     ]
    }
   ],
   "source": [
    "# WAP to print index at which a particular value exists. If multiple values, print all the indices and count the number of time that value is repeated in the list.\n",
    "\n",
    "target = int(input(\"Enter element to find\"))\n",
    "count =0\n",
    "numList = [1,2,3,4,5,6,2,32,4,6,2,4,6,1,4,2,3,2,4,4]\n",
    "print(\"Value Occur At these indexes ::\")\n",
    "for x in range(len(numList)):\n",
    "    if numList[x]== target:\n",
    "        count+=1\n",
    "        print(x,end=\" \")\n",
    "print(f\"\\nIt occurs {count} times in the list\")"
   ]
  },
  {
   "cell_type": "code",
   "execution_count": 36,
   "metadata": {},
   "outputs": [],
   "source": [
    "#WAP a program that defines a list of  countries that are a member of BRICS. Check weather a country is member of BRICS or not.\n",
    "\n",
    "country = input(\"Enter country name to check\")\n",
    "brics = [ \"Brazil\", \"Russia\", \"India\", \"China\",\"South Africa\"] \n",
    "for x in brics:\n",
    "    if x.lower() == country.lower():\n",
    "        print(\"Country is a part of BRICKS\")\n",
    "print(\"Country is not a part of BRICKS\")"
   ]
  },
  {
   "cell_type": "code",
   "execution_count": null,
   "metadata": {},
   "outputs": [],
   "source": []
  }
 ],
 "metadata": {
  "kernelspec": {
   "display_name": "base",
   "language": "python",
   "name": "python3"
  },
  "language_info": {
   "codemirror_mode": {
    "name": "ipython",
    "version": 3
   },
   "file_extension": ".py",
   "mimetype": "text/x-python",
   "name": "python",
   "nbconvert_exporter": "python",
   "pygments_lexer": "ipython3",
   "version": "3.9.12"
  },
  "orig_nbformat": 4,
  "vscode": {
   "interpreter": {
    "hash": "88279d2366fe020547cde40dd65aa0e3aa662a6ec1f3ca12d88834876c85e1a6"
   }
  }
 },
 "nbformat": 4,
 "nbformat_minor": 2
}
