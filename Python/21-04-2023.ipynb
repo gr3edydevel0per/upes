{
 "cells": [
  {
   "cell_type": "raw",
   "metadata": {},
   "source": [
    "Object Oriented Programming "
   ]
  },
  {
   "cell_type": "raw",
   "metadata": {},
   "source": [
    "class myclass:\n",
    "    att1=100  - class attribute (common for all the objects belongs to this class)\n",
    "    def __init__(self,x,y):\n",
    "        self.a=x   --- object attribute \n",
    "        self.b=y   --- object attribute"
   ]
  },
  {
   "cell_type": "code",
   "execution_count": 16,
   "metadata": {},
   "outputs": [],
   "source": [
    "class myclass:\n",
    "    att1=100 \n",
    "    def __init__(self,x,y):\n",
    "        self.a=x   \n",
    "        self.b=y  "
   ]
  },
  {
   "cell_type": "code",
   "execution_count": 17,
   "metadata": {},
   "outputs": [],
   "source": [
    "obj1=myclass(257,20)\n",
    "obj2=myclass(257,40)"
   ]
  },
  {
   "cell_type": "code",
   "execution_count": 18,
   "metadata": {},
   "outputs": [
    {
     "data": {
      "text/plain": [
       "False"
      ]
     },
     "execution_count": 18,
     "metadata": {},
     "output_type": "execute_result"
    }
   ],
   "source": [
    "obj2.a is obj1.a"
   ]
  },
  {
   "cell_type": "code",
   "execution_count": 29,
   "metadata": {},
   "outputs": [],
   "source": [
    "#---Object attribute q.\n",
    "class myclass:\n",
    "    att1=100 \n",
    "    def __init__(self,x,y):\n",
    "        self.a=x   \n",
    "        self.b=y  \n",
    "    def update(self):\n",
    "        self.__class__.att1=3   # Accessing class level variable\n",
    "\n",
    "#__del__ - when a obj is deleted this function is called, also known as destructor \n",
    "\n",
    "# __init__  , __main__ , these are the magic functions which are called automatically"
   ]
  },
  {
   "cell_type": "code",
   "execution_count": 30,
   "metadata": {},
   "outputs": [
    {
     "name": "stdout",
     "output_type": "stream",
     "text": [
      "3\n",
      "3\n"
     ]
    }
   ],
   "source": [
    "obj3=myclass(2,7)\n",
    "obj4=myclass(9,6)\n",
    "obj3.update()\n",
    "print(obj3.att1)\n",
    "print(obj4.att1)"
   ]
  },
  {
   "cell_type": "code",
   "execution_count": 66,
   "metadata": {},
   "outputs": [
    {
     "data": {
      "text/plain": [
       "2"
      ]
     },
     "execution_count": 66,
     "metadata": {},
     "output_type": "execute_result"
    }
   ],
   "source": [
    "# Destructor fnc\n",
    "class objectCount:\n",
    "    objCount=0 \n",
    "    def __init__(self,x,y):\n",
    "        self.a=x   \n",
    "        self.b=y  \n",
    "        self.__class__.objCount+=1\n",
    "    def __del__(self):\n",
    "        self.__class__.objCount-=1\n",
    "    \n",
    "obj1=objectCount(3,4)\n",
    "obj2=objectCount(2,3)\n",
    "objectCount.objCount"
   ]
  },
  {
   "cell_type": "code",
   "execution_count": 67,
   "metadata": {},
   "outputs": [],
   "source": [
    "del obj1\n"
   ]
  },
  {
   "cell_type": "code",
   "execution_count": 68,
   "metadata": {},
   "outputs": [
    {
     "data": {
      "text/plain": [
       "1"
      ]
     },
     "execution_count": 68,
     "metadata": {},
     "output_type": "execute_result"
    }
   ],
   "source": [
    "objectCount.objCount"
   ]
  },
  {
   "cell_type": "code",
   "execution_count": 69,
   "metadata": {},
   "outputs": [],
   "source": [
    "# built in functions "
   ]
  },
  {
   "cell_type": "code",
   "execution_count": 70,
   "metadata": {},
   "outputs": [
    {
     "name": "stdout",
     "output_type": "stream",
     "text": [
      "Help on built-in function getattr in module builtins:\n",
      "\n",
      "getattr(...)\n",
      "    getattr(object, name[, default]) -> value\n",
      "    \n",
      "    Get a named attribute from an object; getattr(x, 'y') is equivalent to x.y.\n",
      "    When a default argument is given, it is returned when the attribute doesn't\n",
      "    exist; without it, an exception is raised in that case.\n",
      "\n"
     ]
    }
   ],
   "source": [
    "#1. \n",
    "help(getattr)"
   ]
  },
  {
   "cell_type": "code",
   "execution_count": 71,
   "metadata": {},
   "outputs": [
    {
     "name": "stdout",
     "output_type": "stream",
     "text": [
      "Attribute doesn't exist\n"
     ]
    }
   ],
   "source": [
    "attrName= input(\"Please enter attribute name \")\n",
    "print(getattr(obj2,attrName)) if hasattr(obj2,attrName) else print(\"Attribute doesn't exist\")\n"
   ]
  },
  {
   "cell_type": "code",
   "execution_count": 72,
   "metadata": {},
   "outputs": [
    {
     "ename": "AttributeError",
     "evalue": "objCount",
     "output_type": "error",
     "traceback": [
      "\u001b[1;31m---------------------------------------------------------------------------\u001b[0m",
      "\u001b[1;31mAttributeError\u001b[0m                            Traceback (most recent call last)",
      "\u001b[1;32m~\\AppData\\Local\\Temp\\ipykernel_1796\\1318481342.py\u001b[0m in \u001b[0;36m<module>\u001b[1;34m\u001b[0m\n\u001b[1;32m----> 1\u001b[1;33m \u001b[0mdelattr\u001b[0m\u001b[1;33m(\u001b[0m\u001b[0mobj2\u001b[0m\u001b[1;33m,\u001b[0m\u001b[1;34m'objCount'\u001b[0m\u001b[1;33m)\u001b[0m\u001b[1;33m\u001b[0m\u001b[1;33m\u001b[0m\u001b[0m\n\u001b[0m",
      "\u001b[1;31mAttributeError\u001b[0m: objCount"
     ]
    }
   ],
   "source": [
    "delattr(obj2,'objCount') # deletes only object level attributes"
   ]
  },
  {
   "cell_type": "code",
   "execution_count": 73,
   "metadata": {},
   "outputs": [
    {
     "name": "stdout",
     "output_type": "stream",
     "text": [
      "Help on built-in function setattr in module builtins:\n",
      "\n",
      "setattr(obj, name, value, /)\n",
      "    Sets the named attribute on the given object to the specified value.\n",
      "    \n",
      "    setattr(x, 'y', v) is equivalent to ``x.y = v''\n",
      "\n"
     ]
    }
   ],
   "source": [
    "help(setattr)"
   ]
  },
  {
   "cell_type": "code",
   "execution_count": 75,
   "metadata": {},
   "outputs": [
    {
     "name": "stdout",
     "output_type": "stream",
     "text": [
      "Help on built-in function repr in module builtins:\n",
      "\n",
      "repr(obj, /)\n",
      "    Return the canonical string representation of the object.\n",
      "    \n",
      "    For many object types, including most builtins, eval(repr(obj)) == obj.\n",
      "\n"
     ]
    }
   ],
   "source": [
    "#Special methods \n",
    "\n",
    "#__repr__\n",
    "#__len__\n",
    "#__cmp__\n",
    "\n",
    "help(repr)"
   ]
  },
  {
   "cell_type": "code",
   "execution_count": 83,
   "metadata": {},
   "outputs": [],
   "source": [
    "#cmp was a method in python2 used for comparing 2 objects \n",
    "# now python3 works that fucntion with == "
   ]
  },
  {
   "cell_type": "code",
   "execution_count": 8,
   "metadata": {},
   "outputs": [],
   "source": [
    "# class complex\n",
    "\n",
    "class Complex:\n",
    "    ''' bhai 12 wapas krle yeh nhi pta kya tujhe'''-\n",
    "    def __init__(self,a,b):\n",
    "        self.real=a\n",
    "        self.imaginary=b\n",
    "\n",
    "    def __repr__(self):\n",
    "        return f\"{self.real}+{self.imaginary}j\"\n",
    "    \n",
    "    def __add__(self,obj):\n",
    "        return Complex((self.real+obj.real),(self.imaginary+obj.imaginary))\n",
    "\n",
    "\n",
    "\n",
    "complex1 = Complex(2,3)\n",
    "complex2 =Complex(6,9)"
   ]
  },
  {
   "cell_type": "code",
   "execution_count": 9,
   "metadata": {},
   "outputs": [],
   "source": [
    "res = complex1+complex2"
   ]
  },
  {
   "cell_type": "code",
   "execution_count": 10,
   "metadata": {},
   "outputs": [
    {
     "data": {
      "text/plain": [
       "8+12j"
      ]
     },
     "execution_count": 10,
     "metadata": {},
     "output_type": "execute_result"
    }
   ],
   "source": [
    "res"
   ]
  },
  {
   "cell_type": "code",
   "execution_count": 11,
   "metadata": {},
   "outputs": [
    {
     "data": {
      "text/plain": [
       "['__add__',\n",
       " '__class__',\n",
       " '__delattr__',\n",
       " '__dict__',\n",
       " '__dir__',\n",
       " '__doc__',\n",
       " '__eq__',\n",
       " '__format__',\n",
       " '__ge__',\n",
       " '__getattribute__',\n",
       " '__gt__',\n",
       " '__hash__',\n",
       " '__init__',\n",
       " '__init_subclass__',\n",
       " '__le__',\n",
       " '__lt__',\n",
       " '__module__',\n",
       " '__ne__',\n",
       " '__new__',\n",
       " '__reduce__',\n",
       " '__reduce_ex__',\n",
       " '__repr__',\n",
       " '__setattr__',\n",
       " '__sizeof__',\n",
       " '__str__',\n",
       " '__subclasshook__',\n",
       " '__weakref__']"
      ]
     },
     "execution_count": 11,
     "metadata": {},
     "output_type": "execute_result"
    }
   ],
   "source": [
    "dir(Complex)"
   ]
  },
  {
   "cell_type": "code",
   "execution_count": 14,
   "metadata": {},
   "outputs": [
    {
     "data": {
      "text/plain": [
       "' bhai 12 wapas krle yeh nhi pta kya tujhe'"
      ]
     },
     "execution_count": 14,
     "metadata": {},
     "output_type": "execute_result"
    }
   ],
   "source": [
    "Complex.__doc__"
   ]
  },
  {
   "cell_type": "code",
   "execution_count": 70,
   "metadata": {},
   "outputs": [],
   "source": [
    "from functools import reduce\n",
    "class Data:\n",
    "    def __str__(self):\n",
    "        return f\"{self.array}\"\n",
    "        \n",
    "    def __init__(self,array):\n",
    "        self.array=array\n",
    "    \n",
    "    def __add__(self,arr2):\n",
    "        return Data(list(map(lambda x,y:x+y,self.array,arr2.array)))\n",
    "    \n",
    "    def sum(self,array2):\n",
    "        return reduce((lambda x,y:x+y ),self.array)\n",
    "    \n",
    "    def min(self):\n",
    "        return min(self.array)\n",
    "\n",
    "    def __lt__(self,arr2):\n",
    "        return Data(list(map((lambda x,y: x<y),self.array,arr2.array )))\n",
    "    \n",
    "    def __getitem__(self, key):\n",
    "        return self.array[key]\n"
   ]
  },
  {
   "cell_type": "code",
   "execution_count": 71,
   "metadata": {},
   "outputs": [],
   "source": [
    "array1 = Data([1,2,3,4,5])\n",
    "array2 = Data([1,2,3,4,6])"
   ]
  },
  {
   "cell_type": "code",
   "execution_count": 72,
   "metadata": {},
   "outputs": [
    {
     "data": {
      "text/plain": [
       "1"
      ]
     },
     "execution_count": 72,
     "metadata": {},
     "output_type": "execute_result"
    }
   ],
   "source": [
    "array1.min()"
   ]
  },
  {
   "cell_type": "code",
   "execution_count": 73,
   "metadata": {},
   "outputs": [
    {
     "data": {
      "text/plain": [
       "[2, 4, 6, 8, 11]"
      ]
     },
     "execution_count": 73,
     "metadata": {},
     "output_type": "execute_result"
    }
   ],
   "source": [
    "array3=array1+array2\n",
    "array3.array"
   ]
  },
  {
   "cell_type": "code",
   "execution_count": 74,
   "metadata": {},
   "outputs": [
    {
     "data": {
      "text/plain": [
       "[False, False, False, False, True]"
      ]
     },
     "execution_count": 74,
     "metadata": {},
     "output_type": "execute_result"
    }
   ],
   "source": [
    "array4=array1<array2\n",
    "array4.array"
   ]
  },
  {
   "cell_type": "code",
   "execution_count": 77,
   "metadata": {},
   "outputs": [
    {
     "data": {
      "text/plain": [
       "1"
      ]
     },
     "execution_count": 77,
     "metadata": {},
     "output_type": "execute_result"
    }
   ],
   "source": [
    "array2[0]"
   ]
  },
  {
   "cell_type": "code",
   "execution_count": null,
   "metadata": {},
   "outputs": [],
   "source": [
    "def __str__(self):\n",
    "    return f\"Here I am {self,getString()}\""
   ]
  }
 ],
 "metadata": {
  "kernelspec": {
   "display_name": "base",
   "language": "python",
   "name": "python3"
  },
  "language_info": {
   "codemirror_mode": {
    "name": "ipython",
    "version": 3
   },
   "file_extension": ".py",
   "mimetype": "text/x-python",
   "name": "python",
   "nbconvert_exporter": "python",
   "pygments_lexer": "ipython3",
   "version": "3.9.13"
  },
  "orig_nbformat": 4
 },
 "nbformat": 4,
 "nbformat_minor": 2
}
