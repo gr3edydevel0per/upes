{
 "cells": [
  {
   "attachments": {},
   "cell_type": "markdown",
   "metadata": {},
   "source": [
    "<h4>Write A PROGRAM TO TAKE NUMBERS FROM USERS UNTILL THE USER WANTS AND COUNT THEM AS POSITIVE , NEGATIVE OR ZEROS </H4>"
   ]
  },
  {
   "cell_type": "code",
   "execution_count": 5,
   "metadata": {},
   "outputs": [
    {
     "name": "stdout",
     "output_type": "stream",
     "text": [
      "Positive Number : 1 \n",
      "Negative Number : 0 \n",
      "Zeros : 0\n"
     ]
    }
   ],
   "source": [
    "pCount=0\n",
    "nCount=0\n",
    "zCount=0\n",
    "while True:\n",
    "    temp=input(\"Enter Number or to terminate enter 'y' :\")\n",
    "    if temp.isdigit() or (temp[0]==\"-\" and temp[1:].isdigit()):\n",
    "        if eval(temp)>0:\n",
    "            pCount+=1\n",
    "        elif eval(temp)<0:\n",
    "            nCount+=1\n",
    "        else:\n",
    "            zCount+=1\n",
    "    elif temp.lower() == 'y':\n",
    "           break\n",
    "\n",
    "\n",
    "print(f\"Positive Number : {pCount} \\nNegative Number : {nCount} \\nZeros : {zCount}\")\n"
   ]
  },
  {
   "cell_type": "code",
   "execution_count": 25,
   "metadata": {},
   "outputs": [
    {
     "name": "stdout",
     "output_type": "stream",
     "text": [
      "[3, 3, 2, 1]\n",
      "[2, 3]\n",
      "[1, 2, 3, 3]\n",
      "[]\n",
      "[1, 2, 3, 3]\n",
      "[3]\n"
     ]
    }
   ],
   "source": [
    "lis = [1,2,3,3]\n",
    "print(lis[::-1])\n",
    "print(lis[1:3])\n",
    "print(lis[-15:])\n",
    "print(lis[-15:-12])\n",
    "print(lis[-12:])\n",
    "print(lis[-1::6])"
   ]
  },
  {
   "cell_type": "code",
   "execution_count": 44,
   "metadata": {},
   "outputs": [],
   "source": [
    "listStu =list(range(1,61))\n",
    "\n",
    "group1 = listStu[::3]\n",
    "group2 = listStu[1::3]\n",
    "group3 = listStu[2::3]\n"
   ]
  },
  {
   "cell_type": "code",
   "execution_count": 45,
   "metadata": {},
   "outputs": [
    {
     "data": {
      "text/plain": [
       "[1, 4, 7, 10, 13, 16, 19, 22, 25, 28, 31, 34, 37, 40, 43, 46, 49, 52, 55, 58]"
      ]
     },
     "execution_count": 45,
     "metadata": {},
     "output_type": "execute_result"
    }
   ],
   "source": [
    "group1"
   ]
  },
  {
   "cell_type": "code",
   "execution_count": 46,
   "metadata": {},
   "outputs": [
    {
     "data": {
      "text/plain": [
       "[2, 5, 8, 11, 14, 17, 20, 23, 26, 29, 32, 35, 38, 41, 44, 47, 50, 53, 56, 59]"
      ]
     },
     "execution_count": 46,
     "metadata": {},
     "output_type": "execute_result"
    }
   ],
   "source": [
    "group2"
   ]
  },
  {
   "cell_type": "code",
   "execution_count": 47,
   "metadata": {},
   "outputs": [
    {
     "data": {
      "text/plain": [
       "[3, 6, 9, 12, 15, 18, 21, 24, 27, 30, 33, 36, 39, 42, 45, 48, 51, 54, 57, 60]"
      ]
     },
     "execution_count": 47,
     "metadata": {},
     "output_type": "execute_result"
    }
   ],
   "source": [
    "group3"
   ]
  },
  {
   "cell_type": "code",
   "execution_count": 1,
   "metadata": {},
   "outputs": [],
   "source": [
    "l2=[1,2]\n",
    "l5 = l2.reverse()\n",
    "l5"
   ]
  },
  {
   "cell_type": "code",
   "execution_count": 2,
   "metadata": {},
   "outputs": [
    {
     "name": "stdout",
     "output_type": "stream",
     "text": [
      "None\n"
     ]
    }
   ],
   "source": [
    "print(l5)"
   ]
  }
 ],
 "metadata": {
  "kernelspec": {
   "display_name": "base",
   "language": "python",
   "name": "python3"
  },
  "language_info": {
   "codemirror_mode": {
    "name": "ipython",
    "version": 3
   },
   "file_extension": ".py",
   "mimetype": "text/x-python",
   "name": "python",
   "nbconvert_exporter": "python",
   "pygments_lexer": "ipython3",
   "version": "3.9.12"
  },
  "orig_nbformat": 4,
  "vscode": {
   "interpreter": {
    "hash": "88279d2366fe020547cde40dd65aa0e3aa662a6ec1f3ca12d88834876c85e1a6"
   }
  }
 },
 "nbformat": 4,
 "nbformat_minor": 2
}
