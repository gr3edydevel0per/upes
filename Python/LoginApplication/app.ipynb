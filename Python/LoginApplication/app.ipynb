{
 "cells": [
  {
   "cell_type": "code",
   "execution_count": 40,
   "metadata": {},
   "outputs": [],
   "source": [
    "import os \n",
    "from validate import *\n",
    "from IPython.display import clear_output"
   ]
  },
  {
   "cell_type": "code",
   "execution_count": 43,
   "metadata": {},
   "outputs": [],
   "source": [
    "def loginMenu():\n",
    "    print(\"=======================================================\")\n",
    "    print(\"||          Enter Credential to Login                ||\")\n",
    "    print(\"=======================================================\")\n",
    "    userame = input(\"Please enter username :  \")\n",
    "    print(\"=======================================================\")\n",
    "    password = input(\"Please enter password :  \")\n",
    "    print(\"=======================================================\")\n",
    "    if not usernamecheck(username):\n",
    "        if passwordcheck(password):\n",
    "            preprocessuser(username,password)\n",
    "          \n",
    "        \n",
    "    "
   ]
  },
  {
   "cell_type": "code",
   "execution_count": 41,
   "metadata": {},
   "outputs": [],
   "source": [
    "def mainMenu():\n",
    "    print(\"============= ====================================\")\n",
    "    print(\"||       Welcome To Autheticator                ||\")\n",
    "    print(\"==================================================\")\n",
    "    print(\" 1. For Login  \")\n",
    "    print(\" 2. For Registeration\")\n",
    "    print(\"==================================================\")\n",
    "    choice =int(input(\"Please enter your choice  : \"))\n",
    "    if choice == 1:\n",
    "        clear_output(wait=True)\n",
    "        loginMenu()\n",
    "    elif choice == 2:\n",
    "        registrationMenu()\n",
    "    else:\n",
    "        print(\" Invalid Chooice \")\n",
    "    \n",
    "    "
   ]
  },
  {
   "cell_type": "code",
   "execution_count": null,
   "metadata": {},
   "outputs": [],
   "source": []
  }
 ],
 "metadata": {
  "kernelspec": {
   "display_name": "Python 3 (ipykernel)",
   "language": "python",
   "name": "python3"
  },
  "language_info": {
   "codemirror_mode": {
    "name": "ipython",
    "version": 3
   },
   "file_extension": ".py",
   "mimetype": "text/x-python",
   "name": "python",
   "nbconvert_exporter": "python",
   "pygments_lexer": "ipython3",
   "version": "3.9.12"
  }
 },
 "nbformat": 4,
 "nbformat_minor": 2
}
