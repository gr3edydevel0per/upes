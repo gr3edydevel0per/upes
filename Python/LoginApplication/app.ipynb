{
 "cells": [
  {
   "cell_type": "code",
   "execution_count": 1,
   "metadata": {},
   "outputs": [],
   "source": [
    "import os \n",
    "from validate import *\n",
    "from IPython.display import clear_output"
   ]
  },
  {
   "cell_type": "code",
   "execution_count": 2,
   "metadata": {},
   "outputs": [],
   "source": [
    "def registerMenu():\n",
    "    print(\"=======================================================\")\n",
    "    print(\"||          Enter Credential to Login                ||\")\n",
    "    print(\"=======================================================\")\n",
    "    username = input(\"Please enter username :  \")\n",
    "    print(\"=======================================================\")\n",
    "    if userCheck(username):\n",
    "        print(\"Please use a different username | UserName already Taken\")\n",
    "        return\n",
    "    else:\n",
    "        pass\n",
    "    password = input(\"Please enter password :  \")\n",
    "    print(\"=======================================================\")\n",
    "    if passwordCheck(password):\n",
    "        storeData(preprocessuser(username,password))\n",
    "        mkUserdir(username)\n",
    "\n",
    "    "
   ]
  },
  {
   "cell_type": "code",
   "execution_count": 3,
   "metadata": {},
   "outputs": [],
   "source": [
    "def loginMenu():\n",
    "    print(\"=======================================================\")\n",
    "    print(\"||          Enter Credential to Login                ||\")\n",
    "    print(\"=======================================================\")\n",
    "    username = input(\"Please enter username :  \")\n",
    "    print(\"=======================================================\")\n",
    "    password = input(\"Please enter password :  \")\n",
    "    print(\"=======================================================\")\n",
    "    if credentialsCheck(username,password):\n",
    "        print(f\"    Welcome {username} , You have successfully logged in\")\n",
    "    else:\n",
    "        print(\"    Please enter a valid username and password\")\n",
    "    \n",
    "          \n",
    "        \n",
    "    "
   ]
  },
  {
   "cell_type": "code",
   "execution_count": 4,
   "metadata": {},
   "outputs": [],
   "source": [
    "def mainMenu():\n",
    "    print(\"============= ====================================\")\n",
    "    print(\"||       Welcome To Authenticator                ||\")\n",
    "    print(\"==================================================\")\n",
    "    print(\" 1. For Login  \")\n",
    "    print(\" 2. For Registeration\")\n",
    "    print(\"==================================================\")\n",
    "    choice =int(input(\"Please enter your choice  : \"))\n",
    "    if choice == 1:\n",
    "        clear_output(wait=True)\n",
    "        loginMenu()\n",
    "    elif choice == 2:\n",
    "        clear_output(wait=True)\n",
    "        registrationMenu()\n",
    "    else:\n",
    "        print(\" Invalid Choice \")\n",
    "    \n",
    "    "
   ]
  },
  {
   "cell_type": "code",
   "execution_count": null,
   "metadata": {},
   "outputs": [],
   "source": []
  }
 ],
 "metadata": {
  "kernelspec": {
   "display_name": "Python 3 (ipykernel)",
   "language": "python",
   "name": "python3"
  },
  "language_info": {
   "codemirror_mode": {
    "name": "ipython",
    "version": 3
   },
   "file_extension": ".py",
   "mimetype": "text/x-python",
   "name": "python",
   "nbconvert_exporter": "python",
   "pygments_lexer": "ipython3",
   "version": "3.9.12"
  }
 },
 "nbformat": 4,
 "nbformat_minor": 2
}
