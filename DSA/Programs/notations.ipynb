{
 "cells": [
  {
   "cell_type": "markdown",
   "metadata": {},
   "source": [
    "Infix : Postfix : Prefix"
   ]
  },
  {
   "attachments": {},
   "cell_type": "raw",
   "metadata": {},
   "source": [
    "Infix   - A+B\n",
    "Prefix  - +AB\n",
    "Postfix - AB+"
   ]
  },
  {
   "cell_type": "raw",
   "metadata": {},
   "source": [
    "1. Infix to Postfix  expression\n",
    "\n",
    "E = ((A+B)*(C-D))\n",
    "S = ((+)*(-))\n",
    "P = AB+CD-*"
   ]
  },
  {
   "cell_type": "raw",
   "metadata": {},
   "source": [
    "2. E = ( ( A+B^C)*D+E^5  )\n",
    "   S = ((+^)+^)\n",
    "   P = ABC^+D*E5^+\n",
    "\n",
    "TO DO : Algorithm for infix to Postfix\n",
    "2. postfix to infix\n",
    "3. infix to Prefix"
   ]
  },
  {
   "cell_type": "raw",
   "metadata": {},
   "source": []
  }
 ],
 "metadata": {
  "kernelspec": {
   "display_name": "base",
   "language": "python",
   "name": "python3"
  },
  "language_info": {
   "codemirror_mode": {
    "name": "ipython",
    "version": 3
   },
   "file_extension": ".py",
   "mimetype": "text/x-python",
   "name": "python",
   "nbconvert_exporter": "python",
   "pygments_lexer": "ipython3",
   "version": "3.9.12"
  },
  "orig_nbformat": 4
 },
 "nbformat": 4,
 "nbformat_minor": 2
}
