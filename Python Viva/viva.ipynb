{
 "cells": [
  {
   "attachments": {},
   "cell_type": "markdown",
   "metadata": {},
   "source": [
    "<center><h4>Python Viva </h4>\n",
    "<h5>Date : 24/March/2023 </h5></center>"
   ]
  },
  {
   "cell_type": "code",
   "execution_count": 10,
   "metadata": {},
   "outputs": [
    {
     "name": "stdout",
     "output_type": "stream",
     "text": [
      "\n",
      "\n",
      "A \n",
      "\n",
      "A B \n",
      "\n",
      "A B C \n",
      "\n",
      "A B C D \n",
      "\n",
      "A B C D E \n",
      "\n"
     ]
    }
   ],
   "source": [
    "n = int(input(\"Enter number of rows\"))\n",
    "char = [chr(x) for x in range(ord('A'),ord('Z')+1)]\n",
    "for i in  range(n):\n",
    "    for j in range(i):\n",
    "        print(char[j%len(char)],end=\" \")\n",
    "    print(\"\\n\")"
   ]
  },
  {
   "cell_type": "code",
   "execution_count": 9,
   "metadata": {},
   "outputs": [
    {
     "name": "stdout",
     "output_type": "stream",
     "text": [
      "Elements with 10 digits\n",
      "No Elements found with 10 digits\n"
     ]
    }
   ],
   "source": [
    "\n",
    "def countNum(num):\n",
    "    return 0 if (num==0) else 1+ countNum(num//10)\n",
    "\n",
    "\n",
    "k= int(input(\"Enter kth number\"))\n",
    "counter=0\n",
    "print(f\"Elements with {k} digits\")\n",
    "tup=(1,2,3445,5676,4984,3454,4334)\n",
    "for i in tup:\n",
    "    if countNum(i)==k:\n",
    "        print(i)\n",
    "        counter=1\n",
    "if counter!=1:\n",
    " print(f\"No Elements found with {k} digits\")\n"
   ]
  },
  {
   "cell_type": "code",
   "execution_count": null,
   "metadata": {},
   "outputs": [],
   "source": []
  }
 ],
 "metadata": {
  "kernelspec": {
   "display_name": "base",
   "language": "python",
   "name": "python3"
  },
  "language_info": {
   "codemirror_mode": {
    "name": "ipython",
    "version": 3
   },
   "file_extension": ".py",
   "mimetype": "text/x-python",
   "name": "python",
   "nbconvert_exporter": "python",
   "pygments_lexer": "ipython3",
   "version": "3.9.12"
  },
  "orig_nbformat": 4
 },
 "nbformat": 4,
 "nbformat_minor": 2
}
