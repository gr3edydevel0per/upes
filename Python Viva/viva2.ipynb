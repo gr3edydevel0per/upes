{
 "cells": [
  {
   "attachments": {},
   "cell_type": "markdown",
   "metadata": {},
   "source": [
    "<center><h2 style=\"color:white\">  Python viva</h2></center>"
   ]
  },
  {
   "attachments": {},
   "cell_type": "markdown",
   "metadata": {},
   "source": [
    "<h4 style=\"color:white\">  Password and username validator</h4>"
   ]
  },
  {
   "cell_type": "code",
   "execution_count": 1,
   "metadata": {},
   "outputs": [],
   "source": [
    "import string"
   ]
  },
  {
   "cell_type": "code",
   "execution_count": 2,
   "metadata": {},
   "outputs": [],
   "source": [
    "spc_chr= string.punctuation"
   ]
  },
  {
   "cell_type": "code",
   "execution_count": 4,
   "metadata": {},
   "outputs": [],
   "source": [
    "def userCheck(username):\n",
    "    for i in spc_chr:\n",
    "        if i in username:\n",
    "            return False\n",
    "    return True   \n",
    " \n",
    "\n",
    "\n",
    "def passwordCheck(passcode):\n",
    "    count=0\n",
    "    if len(passcode)>=8:\n",
    "        count+=1\n",
    "    if list(filter(lambda x:  x.isupper(),passcode))!=[]:\n",
    "        count+=1\n",
    "    if list(filter(lambda x : x.isdigit(),passcode))!=[]:\n",
    "        count+=1\n",
    "    if list(filter(lambda x : x in string.punctuation  ,passcode))!=[]:\n",
    "        count+=1\n",
    "    return  True if count==4 else False"
   ]
  },
  {
   "cell_type": "code",
   "execution_count": 12,
   "metadata": {},
   "outputs": [
    {
     "name": "stdout",
     "output_type": "stream",
     "text": [
      "Valid username and password\n"
     ]
    }
   ],
   "source": [
    "# main\n",
    "\n",
    "name=input(\"Enter username: \")\n",
    "passcode=input(\"Enter password: \")\n",
    "if userCheck(name):\n",
    "    if passwordCheck(passcode):\n",
    "        print(\"Valid username and password\")\n",
    "    else:\n",
    "        print(\"Password is invalid\")\n",
    "else:\n",
    "        print(\"Username  is invalid\")"
   ]
  },
  {
   "attachments": {},
   "cell_type": "markdown",
   "metadata": {},
   "source": [
    "<h4 style=\"color:white\">  Class implementation in python</h4>"
   ]
  },
  {
   "cell_type": "code",
   "execution_count": 7,
   "metadata": {},
   "outputs": [
    {
     "name": "stdout",
     "output_type": "stream",
     "text": [
      "*********************\n",
      "BankAccount Details\n",
      "*********************\n",
      "Account number:  500105056\n",
      "Name:  Kanav\n",
      "Balance:  10000\n",
      "*********************\n"
     ]
    }
   ],
   "source": [
    "class BankAccount:\n",
    "    def __init__(self,accountNumber,name,balance):\n",
    "        self.accountNumber=accountNumber\n",
    "        self.name=name\n",
    "        self.balance=balance\n",
    "    def deposit(self,amount):\n",
    "        self.balance+=amount\n",
    "        print(\"Amount deposited successfully\")\n",
    "\n",
    "    def withdraw(self,amount):\n",
    "        if self.balance>=amount:\n",
    "            self.balance-=amount\n",
    "            print(\"Amount withdrawn successfully\")\n",
    "        else:\n",
    "            print(\"Insufficient balance\")\n",
    "\n",
    "    def display(self):  \n",
    "        print(\"Account number: \",self.accountNumber)\n",
    "        print(\"Name: \",self.name)\n",
    "        print(\"Balance: \",self.balance)\n",
    "\n",
    "# main\n",
    "name=input(\"Enter name: \")\n",
    "accountNumber=input(\"Enter account number: \")\n",
    "balance=int(input(\"Enter balance: \"))\n",
    "emp1=BankAccount(accountNumber,name,balance)\n",
    "print(\"*********************\")\n",
    "print(\"BankAccount Details\")\n",
    "print(\"*********************\")\n",
    "emp1.display()\n",
    "print(\"*********************\")\n"
   ]
  },
  {
   "cell_type": "code",
   "execution_count": 8,
   "metadata": {},
   "outputs": [
    {
     "name": "stdout",
     "output_type": "stream",
     "text": [
      "Amount deposited successfully\n",
      "*********************\n",
      "Insufficient balance\n"
     ]
    }
   ],
   "source": [
    "emp1.deposit(1000)\n",
    "print(\"*********************\")\n",
    "emp1.withdraw(50000)"
   ]
  },
  {
   "cell_type": "code",
   "execution_count": 9,
   "metadata": {},
   "outputs": [
    {
     "name": "stdout",
     "output_type": "stream",
     "text": [
      "Amount withdrawn successfully\n",
      "*********************\n"
     ]
    }
   ],
   "source": [
    "emp1.withdraw(768)\n",
    "print(\"*********************\")"
   ]
  },
  {
   "cell_type": "code",
   "execution_count": 10,
   "metadata": {},
   "outputs": [
    {
     "name": "stdout",
     "output_type": "stream",
     "text": [
      "Account number:  500105056\n",
      "Name:  Kanav\n",
      "Balance:  10232\n"
     ]
    }
   ],
   "source": [
    "emp1.display()"
   ]
  },
  {
   "cell_type": "code",
   "execution_count": 13,
   "metadata": {},
   "outputs": [
    {
     "ename": "TypeError",
     "evalue": "BankAccount() takes no arguments",
     "output_type": "error",
     "traceback": [
      "\u001b[1;31m---------------------------------------------------------------------------\u001b[0m",
      "\u001b[1;31mTypeError\u001b[0m                                 Traceback (most recent call last)",
      "\u001b[1;32m~\\AppData\\Local\\Temp\\ipykernel_12028\\3298172001.py\u001b[0m in \u001b[0;36m<module>\u001b[1;34m\u001b[0m\n\u001b[0;32m     19\u001b[0m         \u001b[0mprint\u001b[0m\u001b[1;33m(\u001b[0m\u001b[1;34m\"Balance:\"\u001b[0m\u001b[1;33m,\u001b[0m \u001b[0mself\u001b[0m\u001b[1;33m.\u001b[0m\u001b[0mbalance\u001b[0m\u001b[1;33m)\u001b[0m\u001b[1;33m\u001b[0m\u001b[1;33m\u001b[0m\u001b[0m\n\u001b[0;32m     20\u001b[0m \u001b[1;33m\u001b[0m\u001b[0m\n\u001b[1;32m---> 21\u001b[1;33m \u001b[0mdetails\u001b[0m\u001b[1;33m=\u001b[0m\u001b[0mBankAccount\u001b[0m\u001b[1;33m(\u001b[0m\u001b[1;34m\"khushi \"\u001b[0m\u001b[1;33m,\u001b[0m\u001b[1;36m234590\u001b[0m\u001b[1;33m,\u001b[0m\u001b[1;36m67000\u001b[0m\u001b[1;33m)\u001b[0m\u001b[1;33m\u001b[0m\u001b[1;33m\u001b[0m\u001b[0m\n\u001b[0m\u001b[0;32m     22\u001b[0m \u001b[0mdetails\u001b[0m\u001b[1;33m.\u001b[0m\u001b[0mdeposit\u001b[0m\u001b[1;33m(\u001b[0m\u001b[1;36m230\u001b[0m\u001b[1;33m)\u001b[0m\u001b[1;33m\u001b[0m\u001b[1;33m\u001b[0m\u001b[0m\n\u001b[0;32m     23\u001b[0m \u001b[0mdetails\u001b[0m\u001b[1;33m.\u001b[0m\u001b[0mwithdraw\u001b[0m\u001b[1;33m(\u001b[0m\u001b[1;36m560\u001b[0m\u001b[1;33m)\u001b[0m\u001b[1;33m\u001b[0m\u001b[1;33m\u001b[0m\u001b[0m\n",
      "\u001b[1;31mTypeError\u001b[0m: BankAccount() takes no arguments"
     ]
    }
   ],
   "source": [
    "class BankAccount:\n",
    "    \n",
    "    def init(self,name, account_number, balance=0):\n",
    "        self.name = name\n",
    "        self.account_number = account_number\n",
    "        self.balance = balance\n",
    "        \n",
    "    def deposit(self, Deposit):\n",
    "        self.balance += Deposit\n",
    "        return Deposit\n",
    "    \n",
    "    def withdraw(self, Deposit):\n",
    "        self.balance -= Deposit\n",
    "        return Deposit\n",
    "    \n",
    "    def display(self):\n",
    "        print(\"Name:\", self.name)\n",
    "        print(\"Account number:\", self.account_number)\n",
    "        print(\"Balance:\", self.balance)\n",
    "        \n",
    "details=BankAccount(\"khushi \",234590,67000)\n",
    "details.deposit(230)\n",
    "details.withdraw(560)\n",
    "details.display()"
   ]
  },
  {
   "cell_type": "code",
   "execution_count": null,
   "metadata": {},
   "outputs": [],
   "source": []
  }
 ],
 "metadata": {
  "kernelspec": {
   "display_name": "base",
   "language": "python",
   "name": "python3"
  },
  "language_info": {
   "codemirror_mode": {
    "name": "ipython",
    "version": 3
   },
   "file_extension": ".py",
   "mimetype": "text/x-python",
   "name": "python",
   "nbconvert_exporter": "python",
   "pygments_lexer": "ipython3",
   "version": "3.9.13"
  },
  "orig_nbformat": 4
 },
 "nbformat": 4,
 "nbformat_minor": 2
}
