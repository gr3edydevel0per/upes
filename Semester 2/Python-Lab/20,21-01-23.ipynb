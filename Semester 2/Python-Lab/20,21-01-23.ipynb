{
 "cells": [
  {
   "attachments": {},
   "cell_type": "markdown",
   "metadata": {},
   "source": [
    "<h4>Task is to count the number of notes required to </h4>\n"
   ]
  },
  {
   "cell_type": "code",
   "execution_count": 1,
   "metadata": {},
   "outputs": [
    {
     "name": "stdout",
     "output_type": "stream",
     "text": [
      " 2000-> 2 500-> 1 100->0\n"
     ]
    }
   ],
   "source": [
    "amount = int(input(\"Please enter the amount : \"))\n",
    "\n",
    "\n",
    "num2k = amount//2000\n",
    "temp = amount % 2000\n",
    "num5k = temp//500\n",
    "left = temp % 500\n",
    "num1k = left//100  \n",
    "\n",
    "print(f\" 2000-> {num2k} 500-> {num5k} 100->{num1k}\")\n"
   ]
  },
  {
   "attachments": {},
   "cell_type": "markdown",
   "metadata": {},
   "source": [
    "<h4> Grading System Using If else </h4>"
   ]
  },
  {
   "cell_type": "code",
   "execution_count": 1,
   "metadata": {},
   "outputs": [
    {
     "name": "stdout",
     "output_type": "stream",
     "text": [
      "---------------------------------\n",
      "The grade is B\n",
      "---------------------------------\n"
     ]
    }
   ],
   "source": [
    "grades = float(input(\"Please enter the grade : \"))\n",
    "\n",
    "\n",
    "if grades>=85:\n",
    "    print(\"---------------------------------\")\n",
    "    print(\"The grade is O+\")\n",
    "    print(\"---------------------------------\")\n",
    "elif grades>=75:\n",
    "    print(\"---------------------------------\")\n",
    "    print(\"The grade is A+\")\n",
    "    print(\"---------------------------------\")\n",
    "elif grades>=65:\n",
    "    print(\"---------------------------------\")\n",
    "    print(\"The grade is A\")\n",
    "    print(\"---------------------------------\")\n",
    "elif grades>=55:\n",
    "    print(\"---------------------------------\")\n",
    "    print(\"The grade is B+\")\n",
    "    print(\"---------------------------------\")\n",
    "elif grades>=45:\n",
    "    print(\"---------------------------------\")\n",
    "    print(\"The grade is B\")\n",
    "    print(\"---------------------------------\")\n",
    "elif grades>=40 :\n",
    "    print(\"---------------------------------\")\n",
    "    print(\"The grade is C+\")\n",
    "    print(\"---------------------------------\")\n",
    "elif grades>=35 :\n",
    "    print(\"---------------------------------\")\n",
    "    print(\"The grade is C\")\n",
    "    print(\"---------------------------------\")\n",
    "else:\n",
    "    print(\"---------------------------------\")\n",
    "    print(\"The grade is Fail\")\n",
    "    print(\"---------------------------------\")"
   ]
  },
  {
   "attachments": {},
   "cell_type": "markdown",
   "metadata": {},
   "source": [
    "<h4> Check whether the entered number is positive negative or zero</h4>"
   ]
  },
  {
   "cell_type": "code",
   "execution_count": 2,
   "metadata": {},
   "outputs": [
    {
     "name": "stdout",
     "output_type": "stream",
     "text": [
      "Positive Number\n"
     ]
    }
   ],
   "source": [
    "x = int(input(\"Please enter the number \"))\n",
    "\n",
    "if x<0:\n",
    "    print(\"Negative Number\")\n",
    "elif x==0:\n",
    "    print(\"Number is zero\")\n",
    "else:\n",
    "    print(\"Positive Number\")"
   ]
  },
  {
   "attachments": {},
   "cell_type": "markdown",
   "metadata": {},
   "source": [
    "<h4> Find the greatest among 3 numbers entered by user </h4>"
   ]
  },
  {
   "cell_type": "code",
   "execution_count": 3,
   "metadata": {},
   "outputs": [
    {
     "name": "stdout",
     "output_type": "stream",
     "text": [
      "-----------------------------------------\n",
      "z : 87 is the largest \n",
      "-----------------------------------------\n"
     ]
    }
   ],
   "source": [
    "x = int(input(\"Please enter the first number :\"))\n",
    "y = int(input(\"Please enter the second number :\"))\n",
    "z = int(input(\"Please enter the third number : \"))\n",
    "\n",
    "print(\"-----------------------------------------\")\n",
    "if x>y:\n",
    "    if x>z:\n",
    "        print(f\"x : {x} is the largest \")\n",
    "    else:\n",
    "        print(f\"z : {z} is the largest \")\n",
    "        \n",
    "elif x==y:\n",
    "    if y==z:\n",
    "        print(\"All numbers are same\")\n",
    "else:\n",
    "    if y>z:\n",
    "        print(f\"y : {y} is the largest\")\n",
    "    else:\n",
    "        print(f\"z : {z} is the largest \")\n",
    "print(\"-----------------------------------------\")"
   ]
  },
  {
   "attachments": {},
   "cell_type": "markdown",
   "metadata": {},
   "source": [
    "<h4> To DO</h4>\n",
    "--> Check Whether entered year is a leap year or not <br>\n",
    "--> Given the current date and the date of birth find the current age of user "
   ]
  },
  {
   "cell_type": "code",
   "execution_count": 18,
   "metadata": {},
   "outputs": [
    {
     "name": "stdout",
     "output_type": "stream",
     "text": [
      "19 0.0 4\n"
     ]
    }
   ],
   "source": [
    "#1. Check entered year is a leap year or not\n",
    "\n",
    "cur_Date  =  4\n",
    "cur_Month =  7\n",
    "cur_Year  =  2024\n",
    "yo_birth  =  2005\n",
    "do_birth  =  27\n",
    "mo_birth  =  3\n",
    "\n",
    "\n",
    "year =  cur_Year - yo_birth\n",
    "no_of_days = 365.2425 * year\n",
    "\n",
    "age_year = no_of_days//365\n",
    "temp_days = no_of_days%365\n",
    "age_month = temp_days//30\n",
    "temp_days = temp_days%31\n",
    "days = temp_days\n",
    "print(int(age_year),age_month,int(days))"
   ]
  },
  {
   "cell_type": "code",
   "execution_count": 2,
   "metadata": {},
   "outputs": [
    {
     "name": "stdout",
     "output_type": "stream",
     "text": [
      "Given year is not a leap year\n"
     ]
    }
   ],
   "source": [
    "year = int(input(\"Enter the year to check\"))\n",
    "if year %4==0:\n",
    "    if year %400==0:\n",
    "        print(\"Not a leap year\") if year %100 == 0 else print(\"Given year is a leap year\")\n",
    "    else:\n",
    "        print(\"Given year is not a leap year\")\n",
    "else:\n",
    "    print(\"Given year is not a leap year\")\n",
    "\n",
    "\n"
   ]
  }
 ],
 "metadata": {
  "kernelspec": {
   "display_name": "base",
   "language": "python",
   "name": "python3"
  },
  "language_info": {
   "codemirror_mode": {
    "name": "ipython",
    "version": 3
   },
   "file_extension": ".py",
   "mimetype": "text/x-python",
   "name": "python",
   "nbconvert_exporter": "python",
   "pygments_lexer": "ipython3",
   "version": "3.9.12"
  },
  "orig_nbformat": 4,
  "vscode": {
   "interpreter": {
    "hash": "88279d2366fe020547cde40dd65aa0e3aa662a6ec1f3ca12d88834876c85e1a6"
   }
  }
 },
 "nbformat": 4,
 "nbformat_minor": 2
}
