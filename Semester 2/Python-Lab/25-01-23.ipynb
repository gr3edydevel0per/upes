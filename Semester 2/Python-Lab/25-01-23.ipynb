{
 "cells": [
  {
   "attachments": {},
   "cell_type": "markdown",
   "metadata": {},
   "source": [
    "<h4>Write a  program to find the prime numbers between given range<h4>"
   ]
  },
  {
   "cell_type": "code",
   "execution_count": 3,
   "metadata": {},
   "outputs": [
    {
     "name": "stdout",
     "output_type": "stream",
     "text": [
      "Prime number is the given range are : \n",
      "2 3 5 7 "
     ]
    }
   ],
   "source": [
    "start = int(input(\"Please enter the lower value :\"))\n",
    "stop =  int(input(\"Please enter the upper value :\"))\n",
    "\n",
    "i= start\n",
    "\n",
    "print(\"Prime number is the given range are : \")\n",
    "\n",
    "while i <= stop:\n",
    "    k = 2\n",
    "    counter = 0\n",
    "    while k * k <= i:\n",
    "        if i % k == 0:\n",
    "            counter = 1\n",
    "            break\n",
    "        k += 1\n",
    "    if counter == 0:\n",
    "        print(i,end=\" \")\n",
    "    i += 1\n"
   ]
  },
  {
   "cell_type": "markdown",
   "metadata": {},
   "source": [
    "<h4> Write a program to iterate in string using for loop <h4>"
   ]
  },
  {
   "cell_type": "code",
   "execution_count": 1,
   "metadata": {},
   "outputs": [
    {
     "name": "stdout",
     "output_type": "stream",
     "text": [
      "H\n",
      "e\n",
      "l\n",
      "l\n",
      "o\n",
      " \n",
      "W\n",
      "o\n",
      "r\n",
      "l\n",
      "d\n"
     ]
    }
   ],
   "source": [
    "str3 = \"Hello World\"\n",
    "\n",
    "for i in str3:\n",
    "    print(i)"
   ]
  },
  {
   "cell_type": "markdown",
   "metadata": {},
   "source": [
    "<h4> Using range in for loop </h4>"
   ]
  },
  {
   "cell_type": "code",
   "execution_count": 13,
   "metadata": {},
   "outputs": [
    {
     "name": "stdout",
     "output_type": "stream",
     "text": [
      "Reverse Range :\n",
      "10 9 8 7 6 5 4 3 2 1 0 \n",
      "Normal Range\n",
      "0 1 2 3 4 5 6 7 8 9 10 "
     ]
    }
   ],
   "source": [
    "print(\"Reverse Range :\")\n",
    "for i in range(10,-1,-1):\n",
    "    print(i , end=\" \")\n",
    "print(\"\\nNormal Range\")\n",
    "for i in range(0,11):     # by default the step value is 1\n",
    "    print(i,end=\" \")\n"
   ]
  },
  {
   "attachments": {},
   "cell_type": "markdown",
   "metadata": {},
   "source": [
    "<h4>write a program to print the given series</h4>"
   ]
  },
  {
   "cell_type": "code",
   "execution_count": 23,
   "metadata": {},
   "outputs": [
    {
     "name": "stdout",
     "output_type": "stream",
     "text": [
      "The sum of the series upto 5 term is 1.7166666666666668\n"
     ]
    }
   ],
   "source": [
    "nth_num = int(input(\"Please enter the nth number of the series\"))\n",
    "sum = 0\n",
    "for i in range(1,nth_num+1):\n",
    "    factorial=1\n",
    "    for j in range(i,0,-1):\n",
    "        factorial*=j\n",
    "    sum+= (1/factorial)\n",
    "\n",
    "print(f\"The sum of the series upto {nth_num} term is {sum}\")"
   ]
  },
  {
   "attachments": {},
   "cell_type": "markdown",
   "metadata": {},
   "source": [
    "<h4> String Formatting </h4>"
   ]
  },
  {
   "cell_type": "code",
   "execution_count": 25,
   "metadata": {},
   "outputs": [
    {
     "name": "stdout",
     "output_type": "stream",
     "text": [
      "The sum of 5 and 5 is  10\n"
     ]
    }
   ],
   "source": [
    "# USinf %  : like format specifier like used in c \n",
    "a = 5\n",
    "b = 5\n",
    "sum = a + b\n",
    "print(\"The sum of %d and %d is  %d\"%(a,b,sum))"
   ]
  },
  {
   "cell_type": "code",
   "execution_count": 5,
   "metadata": {},
   "outputs": [
    {
     "name": "stdout",
     "output_type": "stream",
     "text": [
      "111111\n",
      "000025\n",
      "25345 1\n",
      "025345\n",
      "+25345\n",
      "253451\n",
      " 2.00\n"
     ]
    }
   ],
   "source": [
    "print(\"%d\"%111111)\n",
    "print(\"%06d\"%25)   # n before d set the minimum width  of the number\n",
    "print(\"%-6d1\"%25345) \n",
    "print(\"%06d\"%25345)\n",
    "print(\"%+d\"%25345) \n",
    "print(\"%-d1\"%25345)\n",
    "\n",
    "# %a.bf  here a is the minimum width of the  number and b is the number of digits after decimal place\n",
    "print(\"%5.2f\"%2)"
   ]
  },
  {
   "cell_type": "code",
   "execution_count": null,
   "metadata": {},
   "outputs": [],
   "source": []
  }
 ],
 "metadata": {
  "kernelspec": {
   "display_name": "base",
   "language": "python",
   "name": "python3"
  },
  "language_info": {
   "codemirror_mode": {
    "name": "ipython",
    "version": 3
   },
   "file_extension": ".py",
   "mimetype": "text/x-python",
   "name": "python",
   "nbconvert_exporter": "python",
   "pygments_lexer": "ipython3",
   "version": "3.9.12 (main, Apr  4 2022, 05:22:27) [MSC v.1916 64 bit (AMD64)]"
  },
  "orig_nbformat": 4,
  "vscode": {
   "interpreter": {
    "hash": "88279d2366fe020547cde40dd65aa0e3aa662a6ec1f3ca12d88834876c85e1a6"
   }
  }
 },
 "nbformat": 4,
 "nbformat_minor": 2
}
