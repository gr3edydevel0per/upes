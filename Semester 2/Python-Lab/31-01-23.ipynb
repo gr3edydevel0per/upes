{
 "cells": [
  {
   "cell_type": "code",
   "execution_count": 12,
   "metadata": {},
   "outputs": [
    {
     "name": "stdout",
     "output_type": "stream",
     "text": [
      "number square   cube\n",
      "    1     1     1\n",
      "    2     4     8\n",
      "    3     9    27\n",
      "    4    16    64\n",
      "    5    25   125\n"
     ]
    }
   ],
   "source": [
    "n =5\n",
    "print(\"{:>5} {:>5} {:>5}\".format(\"number\",\"square \",\"cube\"))\n",
    "for i in range(1,n+1):\n",
    "    print(\"{0:>5} {1:>5} {2:>5}\".format(i,i**2,i**3))"
   ]
  },
  {
   "cell_type": "code",
   "execution_count": 4,
   "metadata": {},
   "outputs": [
    {
     "name": "stdout",
     "output_type": "stream",
     "text": [
      "number  square  cube \n",
      "1        1        1       \n",
      "2        4        8       \n",
      "3        9        27      \n",
      "4        16       64      \n",
      "5        25       125     \n"
     ]
    }
   ],
   "source": [
    "n =5\n",
    "print(\"{:<7} {:<7} {:<5}\".format(\"number\",\"square \",\"cube\"))\n",
    "for i in range(1,n+1):\n",
    "    print(\"{:<8} {:<8} {:<8}\".format(i,i**2,i**3))"
   ]
  },
  {
   "cell_type": "code",
   "execution_count": 11,
   "metadata": {},
   "outputs": [
    {
     "name": "stdout",
     "output_type": "stream",
     "text": [
      "number   square    cube\n",
      "   1        1        1    \n",
      "   2        4        8    \n",
      "   3        9        27   \n",
      "   4        16       64   \n",
      "   5        25      125   \n"
     ]
    }
   ],
   "source": [
    "n =5\n",
    "print(\"{:^7} {:^10} {:>4}\".format(\"number\",\"square \",\"cube\"))\n",
    "for i in range(1,n+1):\n",
    "    print(f\"{i:^8} {i**2:^8} {i**3:^8}\")"
   ]
  },
  {
   "cell_type": "code",
   "execution_count": 18,
   "metadata": {},
   "outputs": [
    {
     "name": "stdout",
     "output_type": "stream",
     "text": [
      " number square   cube\n",
      "      1      1      1\n",
      "      2      4      8\n",
      "      3      9     27\n",
      "      4     16     64\n",
      "      5     25    125\n"
     ]
    }
   ],
   "source": [
    "n= 5\n",
    "\n",
    "print(\"%7s%7s%7s\"%('number','square','cube'))\n",
    "\n",
    "for x in range(1,n+1):\n",
    "\n",
    "  print(\"%7d%7d%7d\"%(x,x**2,x**3))"
   ]
  },
  {
   "cell_type": "code",
   "execution_count": null,
   "metadata": {},
   "outputs": [],
   "source": []
  },
  {
   "cell_type": "code",
   "execution_count": null,
   "metadata": {},
   "outputs": [],
   "source": []
  }
 ],
 "metadata": {
  "kernelspec": {
   "display_name": "base",
   "language": "python",
   "name": "python3"
  },
  "language_info": {
   "codemirror_mode": {
    "name": "ipython",
    "version": 3
   },
   "file_extension": ".py",
   "mimetype": "text/x-python",
   "name": "python",
   "nbconvert_exporter": "python",
   "pygments_lexer": "ipython3",
   "version": "3.9.12"
  },
  "orig_nbformat": 4,
  "vscode": {
   "interpreter": {
    "hash": "88279d2366fe020547cde40dd65aa0e3aa662a6ec1f3ca12d88834876c85e1a6"
   }
  }
 },
 "nbformat": 4,
 "nbformat_minor": 2
}
