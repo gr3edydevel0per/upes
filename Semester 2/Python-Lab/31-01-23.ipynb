{
 "cells": [
  {
   "attachments": {},
   "cell_type": "markdown",
   "metadata": {},
   "source": [
    "<h3> String Formatting </h3>"
   ]
  },
  {
   "attachments": {},
   "cell_type": "markdown",
   "metadata": {},
   "source": [
    "<h4>-> Using Format Method </h4>"
   ]
  },
  {
   "cell_type": "code",
   "execution_count": 7,
   "metadata": {},
   "outputs": [
    {
     "name": "stdout",
     "output_type": "stream",
     "text": [
      "number square   cube\n",
      "    1     1     1\n",
      "    2     4     8\n",
      "    3     9    27\n",
      "    4    16    64\n",
      "    5    25   125\n"
     ]
    }
   ],
   "source": [
    "n= int(input(\"Enter the range for the table\"))\n",
    "print(\"{:>5} {:>5} {:>5}\".format(\"number\",\"square \",\"cube\"))\n",
    "for i in range(1,n+1):\n",
    "    print(\"{0:>5} {1:>5} {2:>5}\".format(i,i**2,i**3))"
   ]
  },
  {
   "cell_type": "code",
   "execution_count": 6,
   "metadata": {},
   "outputs": [
    {
     "name": "stdout",
     "output_type": "stream",
     "text": [
      "number  square  cube \n",
      "1        1        1       \n",
      "2        4        8       \n",
      "3        9        27      \n",
      "4        16       64      \n",
      "5        25       125     \n"
     ]
    }
   ],
   "source": [
    "n= int(input(\"Enter the range for the table\"))\n",
    "print(\"{:<7} {:<7} {:<5}\".format(\"number\",\"square \",\"cube\"))\n",
    "for i in range(1,n+1):\n",
    "    print(\"{:<8} {:<8} {:<8}\".format(i,i**2,i**3))"
   ]
  },
  {
   "cell_type": "code",
   "execution_count": 3,
   "metadata": {},
   "outputs": [
    {
     "name": "stdout",
     "output_type": "stream",
     "text": [
      "number   square    cube\n",
      "   1        1        1    \n",
      "   2        4        8    \n",
      "   3        9        27   \n",
      "   4        16       64   \n",
      "   5        25      125   \n"
     ]
    }
   ],
   "source": [
    "# using f string\n",
    "\n",
    "n= int(input(\"Enter the range for the table\"))\n",
    "print(\"{:^7} {:^10} {:>4}\".format(\"number\",\"square \",\"cube\"))\n",
    "for i in range(1,n+1):\n",
    "    print(f\"{i:^8} {i**2:^8} {i**3:^8}\")"
   ]
  },
  {
   "cell_type": "code",
   "execution_count": 4,
   "metadata": {},
   "outputs": [
    {
     "name": "stdout",
     "output_type": "stream",
     "text": [
      " number  square    cube\n",
      "      1      1      1\n",
      "      2      4      8\n",
      "      3      9     27\n",
      "      4     16     64\n",
      "      5     25    125\n"
     ]
    }
   ],
   "source": [
    "# using modulus operator\n",
    "\n",
    "n= int(input(\"Enter the range for the table\"))\n",
    "\n",
    "print(\"%7s %7s %7s\"%('number','square','cube'))\n",
    "\n",
    "for x in range(1,n+1):\n",
    "\n",
    "  print(\"%7d %7d %7d\"%(x,x**2,x**3))"
   ]
  },
  {
   "attachments": {},
   "cell_type": "markdown",
   "metadata": {},
   "source": [
    "<h4>Sequence </h4>\n",
    "- String, List, Dictionary, Set, Tuple"
   ]
  },
  {
   "cell_type": "code",
   "execution_count": null,
   "metadata": {},
   "outputs": [],
   "source": [
    "# String - sequence of symbols \n",
    "# Object Identifier  - ' ' , \" \" ,\"\"\" \"\"\" \n",
    "# Operators - [] (index operator)  , + (Concatenation) ,  *  , slicing operator [start_index:end_index:step_value]\n",
    "\n",
    "\n",
    "#In slicing default value of end_index is len(string)  for forward index and for reverse index it is -len(string)\n",
    "\n",
    "#String Methods  \n",
    "\"\"\" \n",
    ".split()\n",
    ".find()\n",
    ".upper()\n",
    ".lower()\n",
    ".title()\n",
    "\n",
    "\n",
    "\n",
    "\"\"\" \n",
    "\n"
   ]
  },
  {
   "cell_type": "code",
   "execution_count": 2,
   "metadata": {},
   "outputs": [
    {
     "name": "stdout",
     "output_type": "stream",
     "text": [
      "H\n",
      "e\n",
      "l\n",
      "l\n",
      "o\n",
      " \n",
      "W\n",
      "o\n",
      "r\n",
      "l\n",
      "d\n"
     ]
    }
   ],
   "source": [
    "#Extracting Each character from string using index operator\n",
    "string  = \"Hello World\"\n",
    "while i <len(string):\n",
    "    print(string[i])\n",
    "    i+=1"
   ]
  },
  {
   "cell_type": "code",
   "execution_count": 3,
   "metadata": {},
   "outputs": [
    {
     "name": "stdout",
     "output_type": "stream",
     "text": [
      "Hello World\n"
     ]
    }
   ],
   "source": [
    "#Using Concatenation operator on the string\n",
    "str1 = \"Hello\"\n",
    "str2 = \" \"\n",
    "str3 = \"World\"\n",
    "print(str1+str2+str3)"
   ]
  },
  {
   "cell_type": "code",
   "execution_count": 15,
   "metadata": {},
   "outputs": [
    {
     "name": "stdout",
     "output_type": "stream",
     "text": [
      "HelloHello\n",
      "aaaaaaaaaaaaaaaaaaaa"
     ]
    }
   ],
   "source": [
    "#Using replication operator on string\n",
    "\n",
    "str1  = \"Hello\"*2\n",
    "print(str1)\n",
    "for i in \"a\"*20: print(i,end=\"\")"
   ]
  },
  {
   "cell_type": "code",
   "execution_count": 1,
   "metadata": {},
   "outputs": [
    {
     "name": "stdout",
     "output_type": "stream",
     "text": [
      "HelloHello\n"
     ]
    }
   ],
   "source": [
    "# replication of string concatenation operator\n",
    "n = int(input(\"Please enter replication no\"))\n",
    "str1= \"Hello\"\n",
    "i=1\n",
    "while i!=n:\n",
    "    str1+=str1\n",
    "    i+=1\n",
    "print(str1)\n",
    "\n"
   ]
  },
  {
   "cell_type": "code",
   "execution_count": 11,
   "metadata": {},
   "outputs": [
    {
     "name": "stdout",
     "output_type": "stream",
     "text": [
      "The length of string is 12\n",
      "Hello, World\n",
      " World\n",
      "Hello, Worl\n",
      "Hello, World\n",
      "dlroW ,olleH\n"
     ]
    }
   ],
   "source": [
    "# string slicing\n",
    "\n",
    "str = \"Hello, World\"\n",
    "print(f\"The length of string is {len(str)}\")\n",
    "print(str[:]) # value of start index is 0 while the value of end index is len(str)\n",
    "print(str[-6:]) # value of end is -1 by default\n",
    "print(str[:-1]) # value of start index is -12 i.e. the length of the string\n",
    "print(str[:12]) # value of start index is zero \n",
    "print(str[::-1])  # this method is also used to reverse the string "
   ]
  },
  {
   "cell_type": "code",
   "execution_count": 14,
   "metadata": {},
   "outputs": [
    {
     "name": "stdout",
     "output_type": "stream",
     "text": [
      "madam is palindrome\n"
     ]
    }
   ],
   "source": [
    "# program to check whether string is palindrome or not\n",
    "str1 = \"madam\"\n",
    "print(f\"{str1} is palindrome\") if str[::-1] == str else print(f\"{str1} is not palindrome\")"
   ]
  },
  {
   "cell_type": "code",
   "execution_count": 19,
   "metadata": {},
   "outputs": [
    {
     "ename": "ValueError",
     "evalue": "substring not found",
     "output_type": "error",
     "traceback": [
      "\u001b[1;31m---------------------------------------------------------------------------\u001b[0m",
      "\u001b[1;31mValueError\u001b[0m                                Traceback (most recent call last)",
      "\u001b[1;32md:\\Github\\lab-work\\Semester 2\\Python-Lab\\31-01-23.ipynb Cell 15\u001b[0m in \u001b[0;36m<cell line: 3>\u001b[1;34m()\u001b[0m\n\u001b[0;32m      <a href='vscode-notebook-cell:/d%3A/Github/lab-work/Semester%202/Python-Lab/31-01-23.ipynb#X22sZmlsZQ%3D%3D?line=0'>1</a>\u001b[0m \u001b[39m# String Methods  \u001b[39;00m\n\u001b[0;32m      <a href='vscode-notebook-cell:/d%3A/Github/lab-work/Semester%202/Python-Lab/31-01-23.ipynb#X22sZmlsZQ%3D%3D?line=1'>2</a>\u001b[0m str1\u001b[39m.\u001b[39mfind(\u001b[39m\"\u001b[39m\u001b[39mh\u001b[39m\u001b[39m\"\u001b[39m) \u001b[39m# as h is is not in the madam it will return -1\u001b[39;00m\n\u001b[1;32m----> <a href='vscode-notebook-cell:/d%3A/Github/lab-work/Semester%202/Python-Lab/31-01-23.ipynb#X22sZmlsZQ%3D%3D?line=2'>3</a>\u001b[0m \u001b[39mstr\u001b[39;49m\u001b[39m.\u001b[39;49mindex(\u001b[39m\"\u001b[39;49m\u001b[39mh\u001b[39;49m\u001b[39m\"\u001b[39;49m)\n",
      "\u001b[1;31mValueError\u001b[0m: substring not found"
     ]
    }
   ],
   "source": [
    "# String Methods  \n",
    "#find have three parameters\n",
    "str1.find(\"h\") # as h is is not in the madam it will return -1\n",
    "str.index(\"h\")  # index will return ValueError if it doesn't find the substring \n",
    "# both return the first occurrence "
   ]
  },
  {
   "cell_type": "code",
   "execution_count": 3,
   "metadata": {},
   "outputs": [
    {
     "name": "stdout",
     "output_type": "stream",
     "text": [
      "0\n",
      "4\n",
      "7\n"
     ]
    }
   ],
   "source": [
    "str1=input(\"Enter the string\")\n",
    "substring = input(\"Enter the sub-string\")\n",
    "\n",
    "for i in range(0,len(str1)-len(substring)):\n",
    "     print(i) if substring in str1[i:i+len(substring)] else  None\n"
   ]
  },
  {
   "cell_type": "code",
   "execution_count": 4,
   "metadata": {},
   "outputs": [
    {
     "name": "stdout",
     "output_type": "stream",
     "text": [
      "0\n",
      "4\n",
      "7\n"
     ]
    }
   ],
   "source": [
    "#Alternate method for above solUtion\n",
    "str1=input(\"Enter the string\")\n",
    "substring =input(\"Enter the sub-string\")\n",
    "start=0\n",
    "x  = str1.find(substring,start)\n",
    "while x!=-1:\n",
    "    print(x)\n",
    "    start=x+len(substring)\n",
    "    x = str1.find(substring,start)\n"
   ]
  },
  {
   "cell_type": "code",
   "execution_count": 6,
   "metadata": {},
   "outputs": [
    {
     "data": {
      "text/plain": [
       "['he', 'fuhwef , ', 'ehefhwec , ijiuh  ,edfhuwuyefh']"
      ]
     },
     "execution_count": 6,
     "metadata": {},
     "output_type": "execute_result"
    }
   ],
   "source": [
    "str = \"heifuhwef , iehefhwec , ijiuh  ,edfhuwuyefh\"\n",
    "str.split(\"i\",maxsplit=2)  # spilt have two parameters 1. is sep 2. maxsplit"
   ]
  },
  {
   "attachments": {},
   "cell_type": "markdown",
   "metadata": {},
   "source": [
    "<hr> Given a name return its short name </h4>\n",
    "<p> Kanav -> Kanav <br>\n",
    "    Kanav Kumar -> K. Kumar <br>\n",
    "    Kanav Kumar Arora -> K. K. Arora <br>\n",
    " </p>"
   ]
  },
  {
   "cell_type": "code",
   "execution_count": 22,
   "metadata": {},
   "outputs": [
    {
     "name": "stdout",
     "output_type": "stream",
     "text": [
      "K. K. Arora\n"
     ]
    }
   ],
   "source": [
    "fullName =  input(\"Please enter your name : \")\n",
    "name_list=fullName.split(\" \")\n",
    "sName=\"\"\n",
    "if  len(name_list)==1:\n",
    "    sName= fullName\n",
    "else:\n",
    "    for i in range(len(name_list)):\n",
    "         if i!=len(name_list)-1:\n",
    "            sName+=f\"{name_list[i][0].upper()}. \"\n",
    "         else:\n",
    "            sName+=name_list[i].capitalize()\n",
    "            \n",
    "print(sName)\n",
    "     "
   ]
  },
  {
   "cell_type": "code",
   "execution_count": 27,
   "metadata": {},
   "outputs": [
    {
     "name": "stdout",
     "output_type": "stream",
     "text": [
      "Short name for Kanav Kumar is K. Kumar\n"
     ]
    }
   ],
   "source": [
    "# Alternate method for above solution\n",
    "fullName =  input(\"Please enter your name : \")\n",
    "fullName  =  fullName.title()\n",
    "name_list=fullName.split(\" \")\n",
    "sName=\"\"\n",
    "for i in range(len(name_list)-1):\n",
    "    sName+=f\"{name_list[i][0].upper()}. \"\n",
    "sName+=name_list[len(name_list)-1]\n",
    "\n",
    "print(f\"Short name for {fullName} is {sName}\")\n",
    "\n"
   ]
  },
  {
   "cell_type": "code",
   "execution_count": 28,
   "metadata": {},
   "outputs": [
    {
     "data": {
      "text/plain": [
       "False"
      ]
     },
     "execution_count": 28,
     "metadata": {},
     "output_type": "execute_result"
    }
   ],
   "source": [
    "[1,2,3,4] == [4,2,3,1]"
   ]
  },
  {
   "attachments": {},
   "cell_type": "markdown",
   "metadata": {},
   "source": [
    "<h4>String is anagram or not</h4>"
   ]
  },
  {
   "cell_type": "code",
   "execution_count": 61,
   "metadata": {},
   "outputs": [
    {
     "name": "stdout",
     "output_type": "stream",
     "text": [
      "Valid\n"
     ]
    }
   ],
   "source": [
    "str1 = \"aabbcchh\"\n",
    "str2 = \"ccbbhhaa\"\n",
    "counter=0\n",
    "character = []\n",
    "\n",
    "for i  in str1:\n",
    "    if i not in character:\n",
    "        character.append(i)\n",
    "\n",
    "if len(str1)!= len(str2):\n",
    "    counter=0\n",
    "else:\n",
    "    for i in character:\n",
    "        if str1.count(i) == str2.count(i):\n",
    "            counter=1\n",
    "        else:\n",
    "            counter=0\n",
    "            break\n",
    "\n",
    "print(\"InValid\") if counter==0 else print(\"Valid\")\n",
    "\n",
    "                        \n",
    "\n",
    "\n",
    "\n"
   ]
  },
  {
   "cell_type": "code",
   "execution_count": 65,
   "metadata": {},
   "outputs": [
    {
     "data": {
      "text/plain": [
       "'aaknv'"
      ]
     },
     "execution_count": 65,
     "metadata": {},
     "output_type": "execute_result"
    }
   ],
   "source": [
    "# String Sorting \n",
    "\n",
    "str1 = input(\"Please enter the string\")\n",
    "SortedList = sorted(list(str1))\n",
    "\"\".join(SortedList)"
   ]
  },
  {
   "cell_type": "code",
   "execution_count": null,
   "metadata": {},
   "outputs": [],
   "source": []
  }
 ],
 "metadata": {
  "kernelspec": {
   "display_name": "base",
   "language": "python",
   "name": "python3"
  },
  "language_info": {
   "codemirror_mode": {
    "name": "ipython",
    "version": 3
   },
   "file_extension": ".py",
   "mimetype": "text/x-python",
   "name": "python",
   "nbconvert_exporter": "python",
   "pygments_lexer": "ipython3",
   "version": "3.9.12"
  },
  "orig_nbformat": 4,
  "vscode": {
   "interpreter": {
    "hash": "88279d2366fe020547cde40dd65aa0e3aa662a6ec1f3ca12d88834876c85e1a6"
   }
  }
 },
 "nbformat": 4,
 "nbformat_minor": 2
}
