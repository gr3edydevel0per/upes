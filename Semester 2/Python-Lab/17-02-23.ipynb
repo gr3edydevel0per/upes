{
 "cells": [
  {
   "cell_type": "code",
   "execution_count": 65,
   "metadata": {},
   "outputs": [
    {
     "name": "stdout",
     "output_type": "stream",
     "text": [
      "[0.2, -3, 10]\n"
     ]
    }
   ],
   "source": [
    "record =[]\n",
    "while 1:\n",
    "    temp = input(\"Input number to add : press x to exit\")\n",
    "    if  temp.isdigit() or (temp[0]==\"-\" and temp[1:].isdigit()) or temp.replace(\".\",\"0\").isdigit():\n",
    "       record.append(eval(temp))\n",
    "    elif num.lower()== \"x\":\n",
    "      break\n",
    "\n",
    "print(record)\n"
   ]
  },
  {
   "cell_type": "code",
   "execution_count": 66,
   "metadata": {},
   "outputs": [],
   "source": [
    "max = record[0]\n",
    "min = record[0]\n",
    "sumRecord=0\n",
    "for i in range(0,len(record)):\n",
    "     sumRecord+=record[i]\n",
    "     if record[i]>max:\n",
    "        max=record[i]\n",
    "     if record[i]<min:\n",
    "        min=record[i]"
   ]
  },
  {
   "cell_type": "code",
   "execution_count": 67,
   "metadata": {},
   "outputs": [
    {
     "data": {
      "text/plain": [
       "10"
      ]
     },
     "execution_count": 67,
     "metadata": {},
     "output_type": "execute_result"
    }
   ],
   "source": [
    "max"
   ]
  },
  {
   "cell_type": "code",
   "execution_count": 68,
   "metadata": {},
   "outputs": [
    {
     "data": {
      "text/plain": [
       "-3"
      ]
     },
     "execution_count": 68,
     "metadata": {},
     "output_type": "execute_result"
    }
   ],
   "source": [
    "min"
   ]
  },
  {
   "cell_type": "code",
   "execution_count": 64,
   "metadata": {},
   "outputs": [
    {
     "data": {
      "text/plain": [
       "3.2"
      ]
     },
     "execution_count": 64,
     "metadata": {},
     "output_type": "execute_result"
    }
   ],
   "source": [
    "sumRecord"
   ]
  },
  {
   "cell_type": "code",
   "execution_count": 95,
   "metadata": {},
   "outputs": [
    {
     "data": {
      "text/plain": [
       "[-3, -0.34, 10]"
      ]
     },
     "execution_count": 95,
     "metadata": {},
     "output_type": "execute_result"
    }
   ],
   "source": [
    "#++++++++++++++++++++++++++++++++++++++++++++++++++++++++++++++++++++\n",
    "#+                  Dynamically add element in the list             +\n",
    "#++++++++++++++++++++++++++++++++++++++++++++++++++++++++++++++++++++\n",
    "\n",
    "# add only numeric value  \n",
    "\n",
    "record =[]\n",
    "\n",
    "while 1:\n",
    "    temp= input(\"Enter Element to append | enter 'x' to stop :\")\n",
    "    if temp.lower()== \"x\":\n",
    "        break\n",
    "    elif temp.isalpha():\n",
    "        record.append(temp)\n",
    "    elif temp.isdigit():\n",
    "        record.append(int(temp))\n",
    "    elif temp[0]==\"-\" and temp[1:].isdigit():\n",
    "        record.append(int(temp))\n",
    "    elif temp.replace(\".\",\"0\").isdigit():\n",
    "        record.append(float(temp))\n",
    "    elif temp[0]=='-' and temp.replace(\".\",\"\")[1:].isdigit():\n",
    "        record.append(float(temp))\n",
    "\n",
    "record"
   ]
  },
  {
   "cell_type": "code",
   "execution_count": 96,
   "metadata": {},
   "outputs": [],
   "source": [
    "sumRec=0\n",
    "for i in record:\n",
    "    if  type(i) != str:\n",
    "        sumRec+=i"
   ]
  },
  {
   "cell_type": "code",
   "execution_count": 97,
   "metadata": {},
   "outputs": [
    {
     "data": {
      "text/plain": [
       "6.66"
      ]
     },
     "execution_count": 97,
     "metadata": {},
     "output_type": "execute_result"
    }
   ],
   "source": [
    "sumRec"
   ]
  },
  {
   "cell_type": "code",
   "execution_count": 105,
   "metadata": {},
   "outputs": [
    {
     "data": {
      "text/plain": [
       "[3, 5, 56, 7, 7, 1, 9]"
      ]
     },
     "execution_count": 105,
     "metadata": {},
     "output_type": "execute_result"
    }
   ],
   "source": [
    "# wap to remove all the occurrences of an element from the list\n",
    "l1=[2,2,3,5,56,7,7,1,2,9]\n",
    "target=2\n",
    "while target in l1:\n",
    "     l1.remove(target)\n",
    "l1"
   ]
  },
  {
   "cell_type": "code",
   "execution_count": 116,
   "metadata": {},
   "outputs": [
    {
     "ename": "TypeError",
     "evalue": "'tuple' object does not support item assignment",
     "output_type": "error",
     "traceback": [
      "\u001b[1;31m---------------------------------------------------------------------------\u001b[0m",
      "\u001b[1;31mTypeError\u001b[0m                                 Traceback (most recent call last)",
      "\u001b[1;32md:\\Github\\lab-work\\Semester 2\\Python-Lab\\17-02-23.ipynb Cell 10\u001b[0m in \u001b[0;36m<cell line: 2>\u001b[1;34m()\u001b[0m\n\u001b[0;32m      <a href='vscode-notebook-cell:/d%3A/Github/lab-work/Semester%202/Python-Lab/17-02-23.ipynb#X22sZmlsZQ%3D%3D?line=0'>1</a>\u001b[0m l1 \u001b[39m=\u001b[39m (\u001b[39m10\u001b[39m,\u001b[39m20\u001b[39m)\n\u001b[1;32m----> <a href='vscode-notebook-cell:/d%3A/Github/lab-work/Semester%202/Python-Lab/17-02-23.ipynb#X22sZmlsZQ%3D%3D?line=1'>2</a>\u001b[0m l1[\u001b[39m0\u001b[39m]\u001b[39m=\u001b[39m\u001b[39m10\u001b[39m\n",
      "\u001b[1;31mTypeError\u001b[0m: 'tuple' object does not support item assignment"
     ]
    }
   ],
   "source": [
    "l1 = (10,20)\n",
    "l1[0]=10"
   ]
  },
  {
   "cell_type": "code",
   "execution_count": 115,
   "metadata": {},
   "outputs": [
    {
     "data": {
      "text/plain": [
       "False"
      ]
     },
     "execution_count": 115,
     "metadata": {},
     "output_type": "execute_result"
    }
   ],
   "source": [
    "(10,30)==(10,\"ff\")"
   ]
  },
  {
   "cell_type": "code",
   "execution_count": null,
   "metadata": {},
   "outputs": [],
   "source": []
  }
 ],
 "metadata": {
  "kernelspec": {
   "display_name": "base",
   "language": "python",
   "name": "python3"
  },
  "language_info": {
   "codemirror_mode": {
    "name": "ipython",
    "version": 3
   },
   "file_extension": ".py",
   "mimetype": "text/x-python",
   "name": "python",
   "nbconvert_exporter": "python",
   "pygments_lexer": "ipython3",
   "version": "3.9.12"
  },
  "orig_nbformat": 4,
  "vscode": {
   "interpreter": {
    "hash": "88279d2366fe020547cde40dd65aa0e3aa662a6ec1f3ca12d88834876c85e1a6"
   }
  }
 },
 "nbformat": 4,
 "nbformat_minor": 2
}
