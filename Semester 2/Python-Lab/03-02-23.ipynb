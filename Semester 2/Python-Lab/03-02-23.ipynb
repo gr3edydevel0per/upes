{
 "cells": [
  {
   "cell_type": "code",
   "execution_count": 1,
   "metadata": {},
   "outputs": [
    {
     "name": "stdout",
     "output_type": "stream",
     "text": [
      "0\n",
      "6\n",
      "10\n"
     ]
    }
   ],
   "source": [
    "str1=input(\"Enter the string\")\n",
    "substring = input(\"Enter the sub-string\")\n",
    "\n",
    "for i in range(0,len(str1)-len(substring)):\n",
    "     print(i) if substring in str1[i:i+len(substring)] else  None"
   ]
  },
  {
   "cell_type": "code",
   "execution_count": null,
   "metadata": {},
   "outputs": [],
   "source": [
    "#Alternate method for above solUtion\n",
    "str1=input(\"Enter the string\")\n",
    "substring =input(\"Enter the sub-string\")\n",
    "start=0\n",
    "x  = str1.find(substring,start)\n",
    "while x!=-1:\n",
    "    print(x)\n",
    "    start=x+len(substring)\n",
    "    x = str1.find(substring,start)"
   ]
  },
  {
   "cell_type": "code",
   "execution_count": 2,
   "metadata": {},
   "outputs": [
    {
     "data": {
      "text/plain": [
       "['he', 'fuhwef , ', 'ehefhwec , ijiuh  ,edfhuwuyefh']"
      ]
     },
     "execution_count": 2,
     "metadata": {},
     "output_type": "execute_result"
    }
   ],
   "source": [
    "str = \"heifuhwef , iehefhwec , ijiuh  ,edfhuwuyefh\"\n",
    "str.split(\"i\",maxsplit=2)  # spilt have two parameters 1. is sep 2. maxsplit"
   ]
  },
  {
   "attachments": {},
   "cell_type": "markdown",
   "metadata": {},
   "source": [
    "<h4> Given a name return its short name </h4>\n",
    "<p> Kanav -> Kanav <br>\n",
    "    Kanav Kumar -> K. Kumar <br>\n",
    "    Kanav Kumar Arora -> K. K. Arora <br>\n",
    " </p>\n",
    " "
   ]
  },
  {
   "cell_type": "code",
   "execution_count": 3,
   "metadata": {},
   "outputs": [
    {
     "name": "stdout",
     "output_type": "stream",
     "text": [
      "K. K. Arora\n"
     ]
    }
   ],
   "source": [
    "fullName =  input(\"Please enter your name : \")\n",
    "name_list=fullName.split(\" \")\n",
    "sName=\"\"\n",
    "if  len(name_list)==1:\n",
    "    sName= fullName\n",
    "else:\n",
    "    for i in range(len(name_list)):\n",
    "         if i!=len(name_list)-1:\n",
    "            sName+=f\"{name_list[i][0].upper()}. \"\n",
    "         else:\n",
    "            sName+=name_list[i].capitalize()\n",
    "            \n",
    "print(sName)"
   ]
  },
  {
   "cell_type": "code",
   "execution_count": 4,
   "metadata": {},
   "outputs": [
    {
     "name": "stdout",
     "output_type": "stream",
     "text": [
      "Short name for Kanav Kumar Arora is K. K. Arora\n"
     ]
    }
   ],
   "source": [
    "# Alternate method for above solution\n",
    "fullName =  input(\"Please enter your name : \")\n",
    "fullName  =  fullName.title()\n",
    "name_list=fullName.split(\" \")\n",
    "sName=\"\"\n",
    "for i in range(len(name_list)-1):\n",
    "    sName+=f\"{name_list[i][0].upper()}. \"\n",
    "sName+=name_list[len(name_list)-1]\n",
    "\n",
    "print(f\"Short name for {fullName} is {sName}\")\n"
   ]
  },
  {
   "cell_type": "code",
   "execution_count": 5,
   "metadata": {},
   "outputs": [
    {
     "name": "stdout",
     "output_type": "stream",
     "text": [
      "Valid\n"
     ]
    }
   ],
   "source": [
    "str1 = \"aabbcchh\"\n",
    "str2 = \"ccbbhhaa\"\n",
    "counter=0\n",
    "character = []\n",
    "\n",
    "for i  in str1:\n",
    "    if i not in character:\n",
    "        character.append(i)\n",
    "\n",
    "if len(str1)!= len(str2):\n",
    "    counter=0\n",
    "else:\n",
    "    for i in character:\n",
    "        if str1.count(i) == str2.count(i):\n",
    "            counter=1\n",
    "        else:\n",
    "            counter=0\n",
    "            break\n",
    "\n",
    "print(\"InValid\") if counter==0 else print(\"Valid\")"
   ]
  },
  {
   "cell_type": "code",
   "execution_count": 6,
   "metadata": {},
   "outputs": [
    {
     "data": {
      "text/plain": [
       "' aaknv'"
      ]
     },
     "execution_count": 6,
     "metadata": {},
     "output_type": "execute_result"
    }
   ],
   "source": [
    "# String Sorting \n",
    "\n",
    "str1 = input(\"Please enter the string\")\n",
    "SortedList = sorted(list(str1))\n",
    "\"\".join(SortedList)"
   ]
  },
  {
   "cell_type": "code",
   "execution_count": null,
   "metadata": {},
   "outputs": [],
   "source": []
  }
 ],
 "metadata": {
  "kernelspec": {
   "display_name": "base",
   "language": "python",
   "name": "python3"
  },
  "language_info": {
   "codemirror_mode": {
    "name": "ipython",
    "version": 3
   },
   "file_extension": ".py",
   "mimetype": "text/x-python",
   "name": "python",
   "nbconvert_exporter": "python",
   "pygments_lexer": "ipython3",
   "version": "3.9.12"
  },
  "orig_nbformat": 4,
  "vscode": {
   "interpreter": {
    "hash": "88279d2366fe020547cde40dd65aa0e3aa662a6ec1f3ca12d88834876c85e1a6"
   }
  }
 },
 "nbformat": 4,
 "nbformat_minor": 2
}
