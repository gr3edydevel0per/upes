{
 "cells": [
  {
   "cell_type": "markdown",
   "metadata": {},
   "source": [
    "first four charcaters from 1st name  : last two character from last name : third year of birth\n",
    "write  a password script  that prompts user name and date of birth\n",
    "\n"
   ]
  },
  {
   "attachments": {},
   "cell_type": "markdown",
   "metadata": {},
   "source": [
    "if length of first or last name is less than the required number of characaters  append those characters from a given string  aeiou"
   ]
  },
  {
   "cell_type": "code",
   "execution_count": 30,
   "metadata": {},
   "outputs": [],
   "source": [
    "name  =  input(\"Please  enter your name \" ).split()\n",
    "dateOfb =  input(\"Enter the date of birth separated by -like DD-MM-YEAR\")\n",
    "password = \"\"\n",
    "\n",
    "passPhase = \"aeio\"\n",
    "passYear = dateOfb.split(\"-\")[-1]\n",
    "\n",
    "\n",
    "\n",
    "passName = name[0][:4] if len(name[0])>=4 else name[0]+ passPhase[0:4-(len(name[0]))]\n",
    "passLastName = name[-1][:2] if len(name[-1])>=2 else name[-1]+ passPhase[0:2-(len(name[-1]))]"
   ]
  },
  {
   "cell_type": "code",
   "execution_count": 31,
   "metadata": {},
   "outputs": [],
   "source": [
    "password = passName+passLastName+passYear"
   ]
  },
  {
   "cell_type": "code",
   "execution_count": 32,
   "metadata": {},
   "outputs": [
    {
     "data": {
      "text/plain": [
       "'kanaar2005'"
      ]
     },
     "execution_count": 32,
     "metadata": {},
     "output_type": "execute_result"
    }
   ],
   "source": [
    "password"
   ]
  },
  {
   "cell_type": "code",
   "execution_count": null,
   "metadata": {},
   "outputs": [],
   "source": []
  }
 ],
 "metadata": {
  "kernelspec": {
   "display_name": "base",
   "language": "python",
   "name": "python3"
  },
  "language_info": {
   "codemirror_mode": {
    "name": "ipython",
    "version": 3
   },
   "file_extension": ".py",
   "mimetype": "text/x-python",
   "name": "python",
   "nbconvert_exporter": "python",
   "pygments_lexer": "ipython3",
   "version": "3.9.12"
  },
  "orig_nbformat": 4,
  "vscode": {
   "interpreter": {
    "hash": "88279d2366fe020547cde40dd65aa0e3aa662a6ec1f3ca12d88834876c85e1a6"
   }
  }
 },
 "nbformat": 4,
 "nbformat_minor": 2
}
