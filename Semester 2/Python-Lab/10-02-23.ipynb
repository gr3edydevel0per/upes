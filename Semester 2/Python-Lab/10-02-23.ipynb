{
 "cells": [
  {
   "cell_type": "code",
   "execution_count": null,
   "metadata": {},
   "outputs": [],
   "source": [
    "n = int(input())\n",
    "pCount=0\n",
    "nCount=0\n",
    "zCount=0\n",
    "i=1\n",
    "while i!=n:\n",
    "    temp=int(input(\"Enter Number :\"))\n",
    "    if temp>0:\n",
    "        pCount+=1\n",
    "    elif temp<0:\n",
    "        nCount+1\n",
    "    else:\n",
    "        zCount+=1\n",
    "    i+=1\n",
    "print(f\"Positive Number : {pCount} \\nNegative Number : {nCount} \\n Zeros : {zCount}\")\n"
   ]
  },
  {
   "cell_type": "code",
   "execution_count": null,
   "metadata": {},
   "outputs": [],
   "source": []
  }
 ],
 "metadata": {
  "language_info": {
   "name": "python"
  },
  "orig_nbformat": 4
 },
 "nbformat": 4,
 "nbformat_minor": 2
}
