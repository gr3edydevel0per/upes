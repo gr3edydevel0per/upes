{
 "cells": [
  {
   "attachments": {},
   "cell_type": "markdown",
   "metadata": {},
   "source": [
    "<h4>Write A PROGRAM TO TAKE NUMBERS FROM USERS UNTILL THE USER WANTS AND COUNT THEM AS POSITIVE , NEGATIVE OR ZEROS </H4>"
   ]
  },
  {
   "cell_type": "code",
   "execution_count": 28,
   "metadata": {},
   "outputs": [
    {
     "name": "stdout",
     "output_type": "stream",
     "text": [
      "Positive Number : 0 \n",
      "Negative Number : 0 \n",
      "Zeros : 0\n"
     ]
    }
   ],
   "source": [
    "pCount=0\n",
    "nCount=0\n",
    "zCount=0\n",
    "while True:\n",
    "    temp=input(\"Enter Number or to terminate enter 'y' :\")\n",
    "    if temp.isdigit() or (temp[0]==\"-\" and temp[1:].isdigit()):\n",
    "        if eval(temp)>0:\n",
    "            pCount+=1\n",
    "        elif eval(temp)<0:\n",
    "            nCount+=1\n",
    "        else:\n",
    "            zCount+=1\n",
    "    elif temp.lower() == 'y':\n",
    "           break\n",
    "\n",
    "print(f\"Positive Number : {pCount} \\nNegative Number : {nCount} \\nZeros : {zCount}\")\n"
   ]
  }
 ],
 "metadata": {
  "kernelspec": {
   "display_name": "base",
   "language": "python",
   "name": "python3"
  },
  "language_info": {
   "codemirror_mode": {
    "name": "ipython",
    "version": 3
   },
   "file_extension": ".py",
   "mimetype": "text/x-python",
   "name": "python",
   "nbconvert_exporter": "python",
   "pygments_lexer": "ipython3",
   "version": "3.9.12"
  },
  "orig_nbformat": 4,
  "vscode": {
   "interpreter": {
    "hash": "88279d2366fe020547cde40dd65aa0e3aa662a6ec1f3ca12d88834876c85e1a6"
   }
  }
 },
 "nbformat": 4,
 "nbformat_minor": 2
}
